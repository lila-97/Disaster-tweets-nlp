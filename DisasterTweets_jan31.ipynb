{
 "cells": [
  {
   "cell_type": "markdown",
   "id": "c2128181",
   "metadata": {},
   "source": [
    "# Project: Disaster Tweets \n",
    "\n",
    "Twitter has become an important communication channel in times of emergency.\n",
    "The ubiquitousness of smartphones enables people to announce an emergency they’re observing in real-time. Because of this, more agencies are interested in programatically monitoring Twitter (i.e. disaster relief organizations and news agencies).\n",
    "\n",
    "But, it’s not always clear whether a person’s words are actually announcing a disaster. \n",
    "\n",
    "In this competition, you’re challenged to build a machine learning model that predicts which Tweets are about real disasters and which one’s aren’t. You’ll have access to a dataset of 10,000 tweets that were hand classified. "
   ]
  },
  {
   "cell_type": "code",
   "execution_count": 1,
   "id": "d8af2614",
   "metadata": {},
   "outputs": [],
   "source": [
    "#Loading the necessary libraries \n",
    "\n",
    "import numpy as np\n",
    "import pandas as pd \n",
    "import seaborn as sns\n",
    "import matplotlib.pyplot as plt\n",
    "import re\n",
    "\n",
    "import sklearn \n",
    "from sklearn import feature_extraction, model_selection, linear_model\n",
    "\n",
    "import nltk \n",
    "from nltk.corpus import stopwords\n",
    "from nltk import sent_tokenize\n",
    "from nltk import word_tokenize\n",
    "\n",
    "from tensorflow.keras.models import Sequential \n",
    "from tensorflow.keras.layers import Input, Dense \n",
    "from tensorflow.keras.utils import to_categorical \n",
    "from tensorflow.python.framework.random_seed import set_random_seed\n",
    "\n",
    "from keras.utils.vis_utils import plot_model\n",
    "from keras.callbacks import EarlyStopping \n",
    "\n",
    "from sklearn.feature_extraction.text import CountVectorizer\n",
    "from sklearn.preprocessing import StandardScaler \n",
    "from sklearn.metrics import f1_score\n",
    "from sklearn.svm import SVC\n",
    "from sklearn.model_selection import GridSearchCV\n",
    "from sklearn.linear_model import LogisticRegression\n",
    "from sklearn.ensemble import RandomForestClassifier\n",
    "from sklearn.metrics import accuracy_score\n",
    "from sklearn.preprocessing import MaxAbsScaler\n",
    "from sklearn.model_selection import train_test_split\n",
    "from sklearn.metrics import confusion_matrix, ConfusionMatrixDisplay"
   ]
  },
  {
   "cell_type": "markdown",
   "id": "35a3624a",
   "metadata": {},
   "source": [
    "## EDA \n",
    "\n",
    "First, we look at the dataset. We can see that the two target classes are rather balanced in the training set (*real* disaster tweets: 3271, *fake* disaster tweets: 4342). \n",
    "\n",
    "We also observe that the id column doesn't provide any useful information and can be dropped. \n",
    "\n",
    "Moreover, analysis on the location column reveals that 30% of values are missing, and those that are there are expressed in a variety of formats (city, state, city+state...). Since location wouldn't probably have helped much our classification, as disasters can unfortunately happen anywhere, we discard this column as well. \n",
    "\n",
    "The keyword column seems to be useful, even with missing values. "
   ]
  },
  {
   "cell_type": "code",
   "execution_count": 2,
   "id": "00a59360",
   "metadata": {},
   "outputs": [
    {
     "data": {
      "text/html": [
       "<div>\n",
       "<style scoped>\n",
       "    .dataframe tbody tr th:only-of-type {\n",
       "        vertical-align: middle;\n",
       "    }\n",
       "\n",
       "    .dataframe tbody tr th {\n",
       "        vertical-align: top;\n",
       "    }\n",
       "\n",
       "    .dataframe thead th {\n",
       "        text-align: right;\n",
       "    }\n",
       "</style>\n",
       "<table border=\"1\" class=\"dataframe\">\n",
       "  <thead>\n",
       "    <tr style=\"text-align: right;\">\n",
       "      <th></th>\n",
       "      <th>id</th>\n",
       "      <th>keyword</th>\n",
       "      <th>location</th>\n",
       "      <th>text</th>\n",
       "      <th>target</th>\n",
       "    </tr>\n",
       "  </thead>\n",
       "  <tbody>\n",
       "    <tr>\n",
       "      <th>0</th>\n",
       "      <td>1</td>\n",
       "      <td>NaN</td>\n",
       "      <td>NaN</td>\n",
       "      <td>Our Deeds are the Reason of this #earthquake M...</td>\n",
       "      <td>1</td>\n",
       "    </tr>\n",
       "    <tr>\n",
       "      <th>1</th>\n",
       "      <td>4</td>\n",
       "      <td>NaN</td>\n",
       "      <td>NaN</td>\n",
       "      <td>Forest fire near La Ronge Sask. Canada</td>\n",
       "      <td>1</td>\n",
       "    </tr>\n",
       "    <tr>\n",
       "      <th>2</th>\n",
       "      <td>5</td>\n",
       "      <td>NaN</td>\n",
       "      <td>NaN</td>\n",
       "      <td>All residents asked to 'shelter in place' are ...</td>\n",
       "      <td>1</td>\n",
       "    </tr>\n",
       "    <tr>\n",
       "      <th>3</th>\n",
       "      <td>6</td>\n",
       "      <td>NaN</td>\n",
       "      <td>NaN</td>\n",
       "      <td>13,000 people receive #wildfires evacuation or...</td>\n",
       "      <td>1</td>\n",
       "    </tr>\n",
       "    <tr>\n",
       "      <th>4</th>\n",
       "      <td>7</td>\n",
       "      <td>NaN</td>\n",
       "      <td>NaN</td>\n",
       "      <td>Just got sent this photo from Ruby #Alaska as ...</td>\n",
       "      <td>1</td>\n",
       "    </tr>\n",
       "  </tbody>\n",
       "</table>\n",
       "</div>"
      ],
      "text/plain": [
       "   id keyword location                                               text  \\\n",
       "0   1     NaN      NaN  Our Deeds are the Reason of this #earthquake M...   \n",
       "1   4     NaN      NaN             Forest fire near La Ronge Sask. Canada   \n",
       "2   5     NaN      NaN  All residents asked to 'shelter in place' are ...   \n",
       "3   6     NaN      NaN  13,000 people receive #wildfires evacuation or...   \n",
       "4   7     NaN      NaN  Just got sent this photo from Ruby #Alaska as ...   \n",
       "\n",
       "   target  \n",
       "0       1  \n",
       "1       1  \n",
       "2       1  \n",
       "3       1  \n",
       "4       1  "
      ]
     },
     "execution_count": 2,
     "metadata": {},
     "output_type": "execute_result"
    }
   ],
   "source": [
    "#Loading the dataset \n",
    "\n",
    "url = 'https://www.math.unipd.it/~dasan/disaster/'\n",
    "train_df = pd.read_csv(url + 'train.csv', sep=\",\") \n",
    "test_df = pd.read_csv(url + 'test.csv', sep=\",\") \n",
    "\n",
    "\n",
    "# Exploring the dataset \n",
    "\n",
    "train_df.shape # The training set has 7613 rows and 5 columns \n",
    "\n",
    "train_df.head()"
   ]
  },
  {
   "cell_type": "code",
   "execution_count": 3,
   "id": "80b864f6",
   "metadata": {},
   "outputs": [
    {
     "name": "stdout",
     "output_type": "stream",
     "text": [
      "The real disaster tweets are 3271\n",
      "The fake disaster tweets are 4342\n",
      "\n",
      "Hence, the two classes are balanced, although we have slightly more fake than real tweets\n",
      "The missing values for the keyword column are: 61\n",
      "There are 222 unique keywords in the dataframe\n",
      "\n",
      "The missing values for the location column are: 2533\n",
      "There are 3342 unique locations in the dataframe\n",
      "\n",
      "One can already assume that keywords are going to be more relevant than locations for classification, \n",
      "      as more than 30% of location values are missing\n"
     ]
    }
   ],
   "source": [
    "print(\"The real disaster tweets are {}\".format(len(train_df[train_df['target'] == 1])))\n",
    "print(\"The fake disaster tweets are {}\".format(len(train_df[train_df['target'] == 0])))\n",
    "print()\n",
    "print(\"Hence, the two classes are balanced, although we have slightly more fake than real tweets\")\n",
    "\n",
    "print(\"The missing values for the keyword column are: {}\".format(train_df[\"keyword\"].isna().sum()))\n",
    "print(\"There are {} unique keywords in the dataframe\".format(len(train_df[\"keyword\"].unique())))\n",
    "print()\n",
    "print(\"The missing values for the location column are: {}\".format(train_df[\"location\"].isna().sum()))\n",
    "print(\"There are {} unique locations in the dataframe\".format(len(train_df[\"location\"].unique())))\n",
    "print()\n",
    "print(\"\"\"One can already assume that keywords are going to be more relevant than locations for classification, \n",
    "      as more than 30% of location values are missing\"\"\")"
   ]
  },
  {
   "cell_type": "code",
   "execution_count": 4,
   "id": "1e08d83f",
   "metadata": {},
   "outputs": [
    {
     "data": {
      "text/plain": [
       "array([nan, 'Birmingham', 'Est. September 2012 - Bristol', ...,\n",
       "       'Vancouver, Canada', 'London ', 'Lincoln'], dtype=object)"
      ]
     },
     "execution_count": 4,
     "metadata": {},
     "output_type": "execute_result"
    }
   ],
   "source": [
    "train_df['location'].unique()"
   ]
  },
  {
   "cell_type": "code",
   "execution_count": 5,
   "id": "9e0f8d17",
   "metadata": {},
   "outputs": [
    {
     "data": {
      "text/plain": [
       "pandas.core.frame.DataFrame"
      ]
     },
     "execution_count": 5,
     "metadata": {},
     "output_type": "execute_result"
    }
   ],
   "source": [
    "type(train_df)"
   ]
  },
  {
   "cell_type": "code",
   "execution_count": 6,
   "id": "a6c15dc9",
   "metadata": {},
   "outputs": [],
   "source": [
    "# Dropping location column because of too many different location formats and id columns \n",
    "# since it gives us no info \n",
    "\n",
    "#train_df = train_df.drop('location', axis=1)\n",
    "train_df = train_df.drop('id', axis=1)\n",
    "train_df = train_df.drop('location', axis=1)"
   ]
  },
  {
   "cell_type": "code",
   "execution_count": 7,
   "id": "377121c9",
   "metadata": {},
   "outputs": [
    {
     "data": {
      "text/html": [
       "<div>\n",
       "<style scoped>\n",
       "    .dataframe tbody tr th:only-of-type {\n",
       "        vertical-align: middle;\n",
       "    }\n",
       "\n",
       "    .dataframe tbody tr th {\n",
       "        vertical-align: top;\n",
       "    }\n",
       "\n",
       "    .dataframe thead th {\n",
       "        text-align: right;\n",
       "    }\n",
       "</style>\n",
       "<table border=\"1\" class=\"dataframe\">\n",
       "  <thead>\n",
       "    <tr style=\"text-align: right;\">\n",
       "      <th></th>\n",
       "      <th>keyword</th>\n",
       "      <th>text</th>\n",
       "      <th>target</th>\n",
       "    </tr>\n",
       "  </thead>\n",
       "  <tbody>\n",
       "    <tr>\n",
       "      <th>0</th>\n",
       "      <td>NaN</td>\n",
       "      <td>Our Deeds are the Reason of this #earthquake M...</td>\n",
       "      <td>1</td>\n",
       "    </tr>\n",
       "    <tr>\n",
       "      <th>1</th>\n",
       "      <td>NaN</td>\n",
       "      <td>Forest fire near La Ronge Sask. Canada</td>\n",
       "      <td>1</td>\n",
       "    </tr>\n",
       "    <tr>\n",
       "      <th>2</th>\n",
       "      <td>NaN</td>\n",
       "      <td>All residents asked to 'shelter in place' are ...</td>\n",
       "      <td>1</td>\n",
       "    </tr>\n",
       "    <tr>\n",
       "      <th>3</th>\n",
       "      <td>NaN</td>\n",
       "      <td>13,000 people receive #wildfires evacuation or...</td>\n",
       "      <td>1</td>\n",
       "    </tr>\n",
       "    <tr>\n",
       "      <th>4</th>\n",
       "      <td>NaN</td>\n",
       "      <td>Just got sent this photo from Ruby #Alaska as ...</td>\n",
       "      <td>1</td>\n",
       "    </tr>\n",
       "  </tbody>\n",
       "</table>\n",
       "</div>"
      ],
      "text/plain": [
       "  keyword                                               text  target\n",
       "0     NaN  Our Deeds are the Reason of this #earthquake M...       1\n",
       "1     NaN             Forest fire near La Ronge Sask. Canada       1\n",
       "2     NaN  All residents asked to 'shelter in place' are ...       1\n",
       "3     NaN  13,000 people receive #wildfires evacuation or...       1\n",
       "4     NaN  Just got sent this photo from Ruby #Alaska as ...       1"
      ]
     },
     "execution_count": 7,
     "metadata": {},
     "output_type": "execute_result"
    }
   ],
   "source": [
    "train_df.head()"
   ]
  },
  {
   "cell_type": "markdown",
   "id": "cab70a6a",
   "metadata": {},
   "source": [
    "## Text Preprocessing \n",
    "\n",
    "We now turn to preprocess the text of the two columns left, 'text' and 'keyword'. \n",
    "\n",
    "Looking at the unique values of 'keyword' column, we can immediately see that there are special characters instead of spaces, so we remove those and put spaces instead. \n",
    "\n",
    "We also remove special characters and urls from both columns thanks to utility functions. \n",
    "\n",
    "While the column 'text' has no missing values in it, the 'keyword' column does. We set those to 0 and convert to strings. This shouldn't affect our analysis (we will use CountVectorizer and none of the non-missing values have 0 in them so it should create a different token). \n",
    "\n",
    "Since CountVectorizer has some very useful parameters, this is all the preprocessing we need. "
   ]
  },
  {
   "cell_type": "code",
   "execution_count": 8,
   "id": "78f4e601",
   "metadata": {},
   "outputs": [
    {
     "data": {
      "text/plain": [
       "False"
      ]
     },
     "execution_count": 8,
     "metadata": {},
     "output_type": "execute_result"
    }
   ],
   "source": [
    "train_df['text'].isna().any()"
   ]
  },
  {
   "cell_type": "code",
   "execution_count": 9,
   "id": "dfb5bf1e",
   "metadata": {},
   "outputs": [],
   "source": [
    "train_df['keyword'].unique()\n",
    "\n",
    "#there are weird characters instead of spaces, quick fix for both test and training set \n",
    "\n",
    "train_df['keyword'] = train_df['keyword'].str.replace('%20',' ')\n",
    "test_df['keyword'] = test_df['keyword'].str.replace('%20',' ')"
   ]
  },
  {
   "cell_type": "code",
   "execution_count": 10,
   "id": "3149f9a1",
   "metadata": {},
   "outputs": [],
   "source": [
    "#train_df['keyword'].unique()\n",
    "\n",
    "#test_df['keyword'].unique()"
   ]
  },
  {
   "cell_type": "code",
   "execution_count": 11,
   "id": "64064735",
   "metadata": {},
   "outputs": [],
   "source": [
    "# The keyword column actually seems useful, let's keep it \n",
    "\n",
    "# Utility functions for cleaning text of tweets \n",
    "def url_remover(text):\n",
    "    text1 = re.sub(r'http?:\\/\\/.*[\\r\\n]*', \"\", text)\n",
    "    text2 = re.sub(r'https:\\/\\/.*[\\r\\n]*', \"\", text1)\n",
    "    text3 = \" \".join(word for word in text2.split() if not word.startswith('@'))\n",
    "    return text3.casefold().strip()\n",
    "\n",
    "def special_chars_remover(text):\n",
    "    text1 = re.sub(r\"[^a-zA\\s]\", \"\", text)\n",
    "    text2 = text1.replace(\"#\", \"\").strip()\n",
    "    #text2 = ' '.join(filter(str.isalnum, text2))\n",
    "    return text2.strip()\n",
    "\n",
    "# Applying functions to the training and test sets \n",
    "train_df['text'] = train_df.text.apply(url_remover)\n",
    "\n",
    "train_df['text'] = train_df.text.apply(special_chars_remover)\n",
    "\n",
    "\n",
    "test_df[\"text\"] = test_df.text.apply(url_remover)\n",
    "\n",
    "\n",
    "test_df[\"text\"] = test_df.text.apply(special_chars_remover)"
   ]
  },
  {
   "cell_type": "code",
   "execution_count": 12,
   "id": "eb4164c2",
   "metadata": {},
   "outputs": [
    {
     "data": {
      "text/plain": [
       "0    our deeds are the reason of this earthquake ma...\n",
       "1                forest fire near la ronge sask canada\n",
       "2    all residents asked to shelter in place are be...\n",
       "3    people receive wildfires evacuation orders in ...\n",
       "4    just got sent this photo from ruby alaska as s...\n",
       "Name: text, dtype: object"
      ]
     },
     "execution_count": 12,
     "metadata": {},
     "output_type": "execute_result"
    }
   ],
   "source": [
    "train_df['text'].head()"
   ]
  },
  {
   "cell_type": "code",
   "execution_count": 13,
   "id": "6000fda6",
   "metadata": {},
   "outputs": [
    {
     "data": {
      "text/plain": [
       "0                   just happened a terrible car crash\n",
       "1    heard about earthquake is different cities sta...\n",
       "2    there is a forest fire at spot pond geese are ...\n",
       "3                apocalypse lighting spokane wildfires\n",
       "4          typhoon soudelor kills  in china and taiwan\n",
       "Name: text, dtype: object"
      ]
     },
     "execution_count": 13,
     "metadata": {},
     "output_type": "execute_result"
    }
   ],
   "source": [
    "test_df['text'].head()"
   ]
  },
  {
   "cell_type": "code",
   "execution_count": 14,
   "id": "2b764958",
   "metadata": {
    "scrolled": true
   },
   "outputs": [
    {
     "data": {
      "text/plain": [
       "(7613, 3)"
      ]
     },
     "execution_count": 14,
     "metadata": {},
     "output_type": "execute_result"
    }
   ],
   "source": [
    "train_df.shape"
   ]
  },
  {
   "cell_type": "code",
   "execution_count": 15,
   "id": "4a839327",
   "metadata": {},
   "outputs": [
    {
     "data": {
      "text/html": [
       "<div>\n",
       "<style scoped>\n",
       "    .dataframe tbody tr th:only-of-type {\n",
       "        vertical-align: middle;\n",
       "    }\n",
       "\n",
       "    .dataframe tbody tr th {\n",
       "        vertical-align: top;\n",
       "    }\n",
       "\n",
       "    .dataframe thead th {\n",
       "        text-align: right;\n",
       "    }\n",
       "</style>\n",
       "<table border=\"1\" class=\"dataframe\">\n",
       "  <thead>\n",
       "    <tr style=\"text-align: right;\">\n",
       "      <th></th>\n",
       "      <th>id</th>\n",
       "      <th>keyword</th>\n",
       "      <th>location</th>\n",
       "      <th>text</th>\n",
       "    </tr>\n",
       "  </thead>\n",
       "  <tbody>\n",
       "    <tr>\n",
       "      <th>0</th>\n",
       "      <td>0</td>\n",
       "      <td>NaN</td>\n",
       "      <td>NaN</td>\n",
       "      <td>just happened a terrible car crash</td>\n",
       "    </tr>\n",
       "    <tr>\n",
       "      <th>1</th>\n",
       "      <td>2</td>\n",
       "      <td>NaN</td>\n",
       "      <td>NaN</td>\n",
       "      <td>heard about earthquake is different cities sta...</td>\n",
       "    </tr>\n",
       "    <tr>\n",
       "      <th>2</th>\n",
       "      <td>3</td>\n",
       "      <td>NaN</td>\n",
       "      <td>NaN</td>\n",
       "      <td>there is a forest fire at spot pond geese are ...</td>\n",
       "    </tr>\n",
       "    <tr>\n",
       "      <th>3</th>\n",
       "      <td>9</td>\n",
       "      <td>NaN</td>\n",
       "      <td>NaN</td>\n",
       "      <td>apocalypse lighting spokane wildfires</td>\n",
       "    </tr>\n",
       "    <tr>\n",
       "      <th>4</th>\n",
       "      <td>11</td>\n",
       "      <td>NaN</td>\n",
       "      <td>NaN</td>\n",
       "      <td>typhoon soudelor kills  in china and taiwan</td>\n",
       "    </tr>\n",
       "  </tbody>\n",
       "</table>\n",
       "</div>"
      ],
      "text/plain": [
       "   id keyword location                                               text\n",
       "0   0     NaN      NaN                 just happened a terrible car crash\n",
       "1   2     NaN      NaN  heard about earthquake is different cities sta...\n",
       "2   3     NaN      NaN  there is a forest fire at spot pond geese are ...\n",
       "3   9     NaN      NaN              apocalypse lighting spokane wildfires\n",
       "4  11     NaN      NaN        typhoon soudelor kills  in china and taiwan"
      ]
     },
     "execution_count": 15,
     "metadata": {},
     "output_type": "execute_result"
    }
   ],
   "source": [
    "test_df.shape\n",
    "test_df.head()"
   ]
  },
  {
   "cell_type": "code",
   "execution_count": 16,
   "id": "566ab2b7",
   "metadata": {},
   "outputs": [
    {
     "name": "stderr",
     "output_type": "stream",
     "text": [
      "<ipython-input-16-af780f71820a>:8: SettingWithCopyWarning: \n",
      "A value is trying to be set on a copy of a slice from a DataFrame.\n",
      "Try using .loc[row_indexer,col_indexer] = value instead\n",
      "\n",
      "See the caveats in the documentation: https://pandas.pydata.org/pandas-docs/stable/user_guide/indexing.html#returning-a-view-versus-a-copy\n",
      "  X_train['keyword'] = X_train['keyword'].fillna(0)\n",
      "<ipython-input-16-af780f71820a>:9: SettingWithCopyWarning: \n",
      "A value is trying to be set on a copy of a slice from a DataFrame.\n",
      "Try using .loc[row_indexer,col_indexer] = value instead\n",
      "\n",
      "See the caveats in the documentation: https://pandas.pydata.org/pandas-docs/stable/user_guide/indexing.html#returning-a-view-versus-a-copy\n",
      "  X_train['keyword'] = X_train['keyword'].astype(str)\n",
      "<ipython-input-16-af780f71820a>:10: SettingWithCopyWarning: \n",
      "A value is trying to be set on a copy of a slice from a DataFrame.\n",
      "Try using .loc[row_indexer,col_indexer] = value instead\n",
      "\n",
      "See the caveats in the documentation: https://pandas.pydata.org/pandas-docs/stable/user_guide/indexing.html#returning-a-view-versus-a-copy\n",
      "  X_test['keyword'] = X_test['keyword'].fillna(0)\n",
      "<ipython-input-16-af780f71820a>:11: SettingWithCopyWarning: \n",
      "A value is trying to be set on a copy of a slice from a DataFrame.\n",
      "Try using .loc[row_indexer,col_indexer] = value instead\n",
      "\n",
      "See the caveats in the documentation: https://pandas.pydata.org/pandas-docs/stable/user_guide/indexing.html#returning-a-view-versus-a-copy\n",
      "  X_test['keyword'] = X_test['keyword'].astype(str)\n"
     ]
    }
   ],
   "source": [
    "X_train = train_df[['text', 'keyword']]\n",
    "y_train = train_df['target']\n",
    "\n",
    "X_test = test_df[['text', 'keyword']]\n",
    "\n",
    "# Replace nans in keyword columns with zeroes \n",
    "\n",
    "X_train['keyword'] = X_train['keyword'].fillna(0)\n",
    "X_train['keyword'] = X_train['keyword'].astype(str)\n",
    "X_test['keyword'] = X_test['keyword'].fillna(0)\n",
    "X_test['keyword'] = X_test['keyword'].astype(str)"
   ]
  },
  {
   "cell_type": "code",
   "execution_count": 17,
   "id": "0dc546fe",
   "metadata": {},
   "outputs": [
    {
     "name": "stdout",
     "output_type": "stream",
     "text": [
      "X_train dim after processing: (7613, 2)\n",
      "y_train dim after processing: (7613,)\n",
      "X_test dim after processing: (3263, 2)\n"
     ]
    },
    {
     "data": {
      "text/html": [
       "<div>\n",
       "<style scoped>\n",
       "    .dataframe tbody tr th:only-of-type {\n",
       "        vertical-align: middle;\n",
       "    }\n",
       "\n",
       "    .dataframe tbody tr th {\n",
       "        vertical-align: top;\n",
       "    }\n",
       "\n",
       "    .dataframe thead th {\n",
       "        text-align: right;\n",
       "    }\n",
       "</style>\n",
       "<table border=\"1\" class=\"dataframe\">\n",
       "  <thead>\n",
       "    <tr style=\"text-align: right;\">\n",
       "      <th></th>\n",
       "      <th>text</th>\n",
       "      <th>keyword</th>\n",
       "    </tr>\n",
       "  </thead>\n",
       "  <tbody>\n",
       "    <tr>\n",
       "      <th>0</th>\n",
       "      <td>our deeds are the reason of this earthquake ma...</td>\n",
       "      <td>0</td>\n",
       "    </tr>\n",
       "    <tr>\n",
       "      <th>1</th>\n",
       "      <td>forest fire near la ronge sask canada</td>\n",
       "      <td>0</td>\n",
       "    </tr>\n",
       "    <tr>\n",
       "      <th>2</th>\n",
       "      <td>all residents asked to shelter in place are be...</td>\n",
       "      <td>0</td>\n",
       "    </tr>\n",
       "    <tr>\n",
       "      <th>3</th>\n",
       "      <td>people receive wildfires evacuation orders in ...</td>\n",
       "      <td>0</td>\n",
       "    </tr>\n",
       "    <tr>\n",
       "      <th>4</th>\n",
       "      <td>just got sent this photo from ruby alaska as s...</td>\n",
       "      <td>0</td>\n",
       "    </tr>\n",
       "  </tbody>\n",
       "</table>\n",
       "</div>"
      ],
      "text/plain": [
       "                                                text keyword\n",
       "0  our deeds are the reason of this earthquake ma...       0\n",
       "1              forest fire near la ronge sask canada       0\n",
       "2  all residents asked to shelter in place are be...       0\n",
       "3  people receive wildfires evacuation orders in ...       0\n",
       "4  just got sent this photo from ruby alaska as s...       0"
      ]
     },
     "execution_count": 17,
     "metadata": {},
     "output_type": "execute_result"
    }
   ],
   "source": [
    "print(\"X_train dim after processing: {}\".format(X_train.shape))\n",
    "print(\"y_train dim after processing: {}\".format(y_train.shape))\n",
    "print(\"X_test dim after processing: {}\".format(X_test.shape))\n",
    "X_train.head()"
   ]
  },
  {
   "cell_type": "code",
   "execution_count": 18,
   "id": "25d1a8db",
   "metadata": {},
   "outputs": [
    {
     "data": {
      "text/html": [
       "<div>\n",
       "<style scoped>\n",
       "    .dataframe tbody tr th:only-of-type {\n",
       "        vertical-align: middle;\n",
       "    }\n",
       "\n",
       "    .dataframe tbody tr th {\n",
       "        vertical-align: top;\n",
       "    }\n",
       "\n",
       "    .dataframe thead th {\n",
       "        text-align: right;\n",
       "    }\n",
       "</style>\n",
       "<table border=\"1\" class=\"dataframe\">\n",
       "  <thead>\n",
       "    <tr style=\"text-align: right;\">\n",
       "      <th></th>\n",
       "      <th>text</th>\n",
       "      <th>keyword</th>\n",
       "    </tr>\n",
       "  </thead>\n",
       "  <tbody>\n",
       "    <tr>\n",
       "      <th>0</th>\n",
       "      <td>just happened a terrible car crash</td>\n",
       "      <td>0</td>\n",
       "    </tr>\n",
       "    <tr>\n",
       "      <th>1</th>\n",
       "      <td>heard about earthquake is different cities sta...</td>\n",
       "      <td>0</td>\n",
       "    </tr>\n",
       "    <tr>\n",
       "      <th>2</th>\n",
       "      <td>there is a forest fire at spot pond geese are ...</td>\n",
       "      <td>0</td>\n",
       "    </tr>\n",
       "    <tr>\n",
       "      <th>3</th>\n",
       "      <td>apocalypse lighting spokane wildfires</td>\n",
       "      <td>0</td>\n",
       "    </tr>\n",
       "    <tr>\n",
       "      <th>4</th>\n",
       "      <td>typhoon soudelor kills  in china and taiwan</td>\n",
       "      <td>0</td>\n",
       "    </tr>\n",
       "  </tbody>\n",
       "</table>\n",
       "</div>"
      ],
      "text/plain": [
       "                                                text keyword\n",
       "0                 just happened a terrible car crash       0\n",
       "1  heard about earthquake is different cities sta...       0\n",
       "2  there is a forest fire at spot pond geese are ...       0\n",
       "3              apocalypse lighting spokane wildfires       0\n",
       "4        typhoon soudelor kills  in china and taiwan       0"
      ]
     },
     "execution_count": 18,
     "metadata": {},
     "output_type": "execute_result"
    }
   ],
   "source": [
    "X_test.head()"
   ]
  },
  {
   "cell_type": "code",
   "execution_count": 19,
   "id": "7690f10d",
   "metadata": {},
   "outputs": [],
   "source": [
    "# Even if tokenization could just be performed by CountVectorizer, we apply it here\n",
    "# because it is necessary for lemmatization \n",
    "\n",
    "#from nltk.stem.wordnet import WordNetLemmatizer\n",
    "\n",
    "#from nltk.tokenize import word_tokenize\n",
    "\n",
    "#lemma_sents=[]\n",
    "#for i, el in train_df['text'].items():\n",
    "    #lemma_sents.append(word_tokenize(el))\n",
    "#print(lemma_sents)\n",
    "\n",
    "#lemma_sents = pd.Series(lemma_sents)\n",
    "#train_df['text'] = lemma_sents "
   ]
  },
  {
   "cell_type": "code",
   "execution_count": 20,
   "id": "93304163",
   "metadata": {},
   "outputs": [
    {
     "data": {
      "text/html": [
       "<div>\n",
       "<style scoped>\n",
       "    .dataframe tbody tr th:only-of-type {\n",
       "        vertical-align: middle;\n",
       "    }\n",
       "\n",
       "    .dataframe tbody tr th {\n",
       "        vertical-align: top;\n",
       "    }\n",
       "\n",
       "    .dataframe thead th {\n",
       "        text-align: right;\n",
       "    }\n",
       "</style>\n",
       "<table border=\"1\" class=\"dataframe\">\n",
       "  <thead>\n",
       "    <tr style=\"text-align: right;\">\n",
       "      <th></th>\n",
       "      <th>keyword</th>\n",
       "      <th>text</th>\n",
       "      <th>target</th>\n",
       "    </tr>\n",
       "  </thead>\n",
       "  <tbody>\n",
       "    <tr>\n",
       "      <th>0</th>\n",
       "      <td>NaN</td>\n",
       "      <td>our deeds are the reason of this earthquake ma...</td>\n",
       "      <td>1</td>\n",
       "    </tr>\n",
       "    <tr>\n",
       "      <th>1</th>\n",
       "      <td>NaN</td>\n",
       "      <td>forest fire near la ronge sask canada</td>\n",
       "      <td>1</td>\n",
       "    </tr>\n",
       "    <tr>\n",
       "      <th>2</th>\n",
       "      <td>NaN</td>\n",
       "      <td>all residents asked to shelter in place are be...</td>\n",
       "      <td>1</td>\n",
       "    </tr>\n",
       "    <tr>\n",
       "      <th>3</th>\n",
       "      <td>NaN</td>\n",
       "      <td>people receive wildfires evacuation orders in ...</td>\n",
       "      <td>1</td>\n",
       "    </tr>\n",
       "    <tr>\n",
       "      <th>4</th>\n",
       "      <td>NaN</td>\n",
       "      <td>just got sent this photo from ruby alaska as s...</td>\n",
       "      <td>1</td>\n",
       "    </tr>\n",
       "  </tbody>\n",
       "</table>\n",
       "</div>"
      ],
      "text/plain": [
       "  keyword                                               text  target\n",
       "0     NaN  our deeds are the reason of this earthquake ma...       1\n",
       "1     NaN              forest fire near la ronge sask canada       1\n",
       "2     NaN  all residents asked to shelter in place are be...       1\n",
       "3     NaN  people receive wildfires evacuation orders in ...       1\n",
       "4     NaN  just got sent this photo from ruby alaska as s...       1"
      ]
     },
     "execution_count": 20,
     "metadata": {},
     "output_type": "execute_result"
    }
   ],
   "source": [
    "train_df.head()"
   ]
  },
  {
   "cell_type": "code",
   "execution_count": 21,
   "id": "522a7ffc",
   "metadata": {},
   "outputs": [],
   "source": [
    "#import nltk \n",
    "\n",
    "#nltk.download('wordnet')\n",
    "\n",
    "#lemmatizer = WordNetLemmatizer()\n",
    "\n",
    "#lem_sents=[]\n",
    "#for i, el in train_df['text'].items():\n",
    "    #lem_sents.append([lemmatizer.lemmatize(words_sent) for words_sent in el])\n",
    "\n",
    "#print(lem_sents)"
   ]
  },
  {
   "cell_type": "code",
   "execution_count": 22,
   "id": "7ee43b1d",
   "metadata": {},
   "outputs": [],
   "source": [
    "#lem_sents = pd.Series(lem_sents)\n",
    "#train_df['text'] = lem_sents \n",
    "#\n",
    "#train_df['text'][0]"
   ]
  },
  {
   "cell_type": "markdown",
   "id": "12f9b46e",
   "metadata": {},
   "source": [
    "## Tokenization \n",
    "\n",
    "In this section, I created two different CountVectorizer() in order to preprocess and tokenize both the column 'text' and the 'keyword' column, using unigrams, bigrams and trigrams for both. \n",
    "\n",
    "I then applied simple *Logistic Regression* to the training set (which was split in training and validation with a 70/30 split). *Validation accuracy: 76%*\n",
    "\n",
    "I tried to lemmatize the text but accuracy actually lowered to 74%. \n",
    "\n",
    "I tried using l2 regularization, but it does not improve perfomance. "
   ]
  },
  {
   "cell_type": "code",
   "execution_count": 23,
   "id": "079771d7",
   "metadata": {},
   "outputs": [],
   "source": [
    "count_vectorizer1 = feature_extraction.text.CountVectorizer(ngram_range=(1,3), max_features=200,\n",
    "                                                          stop_words='english')\n",
    "\n",
    "count_vectorizer2 = feature_extraction.text.CountVectorizer(ngram_range=(1,3), max_features=10,\n",
    "                                                          stop_words='english')\n",
    "\n",
    "#train_vectors1 = pd.DataFrame(count_vectorizer.fit_transform(X_train['text']))\n",
    "#train_vectors2 = pd.DataFrame(count_vectorizer.fit_transform(X_train['keyword']))\n",
    "#X_train = pd.concat([train_vectors1, train_vectors2], axis=1)\n",
    "\n"
   ]
  },
  {
   "cell_type": "code",
   "execution_count": 24,
   "id": "d82d0656",
   "metadata": {},
   "outputs": [
    {
     "name": "stdout",
     "output_type": "stream",
     "text": [
      "vocabulary of text column is {'earthquake': 47, 'forest': 67, 'near': 121, 'evacuation': 51, 'people': 133, 'california': 23, 'just': 94, 'got': 75, 'photo': 134, 'smoke': 157, 'school': 150, 'flood': 63, 'disaster': 44, 'rain': 138, 'flooding': 64, 'im': 89, 'theres': 169, 'emergency': 48, 'coming': 31, 'area': 2, 'heat': 78, 'getting': 69, 'live': 106, 'gonna': 73, 'ive': 92, 'damage': 36, 'car': 24, 'crash': 34, 'breaking': 19, 'man': 114, 'love': 111, 'summer': 165, 'day': 37, 'shit': 155, 'like': 102, 'end': 49, 'rt': 144, 'set': 153, 'look': 108, 'night': 125, 'new': 123, 'head': 77, 'st': 159, 'police': 137, 'check': 26, 'youre': 199, 'dead': 38, 'time': 173, 'know': 96, 'life': 100, 'year': 197, 'home': 84, 'years': 198, 'black': 11, 'truck': 178, 'city': 27, 'amp': 1, 'fires': 61, 'does': 45, 'dont': 46, 'make': 112, 'work': 192, 'accident': 0, 'great': 76, 'pm': 136, 'god': 71, 'stop': 161, 'th': 167, 'right': 143, 'help': 79, 'today': 175, 'fucking': 68, 'killed': 95, 'going': 72, 'best': 10, 'really': 140, 'screaming': 151, 'bloody': 13, 'face': 53, 'way': 185, 'want': 180, 'say': 148, 'need': 122, 'debris': 41, 'good': 74, 'state': 160, 'wreck': 195, 'times': 174, 'little': 105, 'looks': 109, 'house': 88, 'cause': 25, 'come': 30, 'services': 152, 'destroy': 42, 'blood': 12, 'run': 145, 'news': 124, 'said': 146, 'hes': 80, 'body': 14, 'hit': 83, 'train': 176, 'thats': 168, 'weather': 188, 'army': 3, 'food': 66, 'wild': 189, 'world': 193, 'save': 147, 'survive': 166, 'boy': 18, 'watch': 183, 'feel': 60, 'hot': 87, 'lol': 107, 'high': 81, 'liked': 103, 'video': 179, 'read': 139, 'movie': 119, 'storm': 162, 'latest': 97, 'bad': 8, 'attack': 6, 'liked video': 104, 'did': 43, 'warning': 182, 'think': 170, 'collapse': 28, 'hope': 86, 'military': 117, 'japan': 93, 'war': 181, 'northern': 126, 'northern california': 127, 'death': 39, 'girl': 70, 'burning': 21, 'missing': 118, 'nuclear': 128, 'suicide': 163, 'bombing': 17, 'injured': 90, 'obama': 129, 'weapon': 186, 'released': 142, 'atomic': 5, 'says': 149, 'attacked': 7, 'families': 56, 'flames': 62, 'fall': 55, 'mass': 115, 'fear': 59, 'wildfire': 190, 'weapons': 187, 'old': 131, 'let': 99, 'bomb': 15, 'wind': 191, 'wounded': 194, 'lightning': 101, 'ass': 4, 'cross': 35, 'bags': 9, 'hiroshima': 82, 'plan': 135, 'natural': 120, 'homes': 85, 'buildings': 20, 'burning buildings': 22, 'sinking': 156, 'explode': 52, 'content': 33, 'water': 184, 'evacuate': 50, 'confirmed': 32, 'failure': 54, 'spill': 158, 'trapped': 177, 'oil': 130, 'thunderstorm': 172, 'collided': 29, 'injuries': 91, 'fatal': 57, 'mh': 116, 'severe': 154, 'legionnaires': 98, 'deaths': 40, 'malaysia': 113, 'floods': 65, 'loud': 110, 'thunder': 171, 'reddit': 141, 'fatalities': 58, 'wreckage': 196, 'outbreak': 132, 'bomber': 16, 'suicide bomber': 164}\n",
      "\n",
      "\n",
      "vocabulary of keyword column is {'accident': 0, 'body': 1, 'buildings': 2, 'burning': 3, 'fires': 6, 'emergency': 5, 'disaster': 4, 'storm': 8, 'nuclear': 7, 'suicide': 9}\n"
     ]
    }
   ],
   "source": [
    "# Creating X_train \n",
    "\n",
    "train_vectors1 =count_vectorizer1.fit_transform(X_train['text'])\n",
    "\n",
    "type(train_vectors1)\n",
    "\n",
    "print(\"vocabulary of text column is {}\".format(count_vectorizer1.vocabulary_))\n",
    "\n",
    "train_vectors2 = count_vectorizer2.fit_transform(X_train['keyword'])\n",
    "print()\n",
    "print()\n",
    "print(\"vocabulary of keyword column is {}\".format(count_vectorizer2.vocabulary_))"
   ]
  },
  {
   "cell_type": "code",
   "execution_count": 25,
   "id": "f8044952",
   "metadata": {},
   "outputs": [
    {
     "name": "stdout",
     "output_type": "stream",
     "text": [
      "{'earthquake': 47, 'forest': 67, 'near': 121, 'evacuation': 51, 'people': 133, 'california': 23, 'just': 94, 'got': 75, 'photo': 134, 'smoke': 157, 'school': 150, 'flood': 63, 'disaster': 4, 'rain': 138, 'flooding': 64, 'im': 89, 'theres': 169, 'emergency': 5, 'coming': 31, 'area': 2, 'heat': 78, 'getting': 69, 'live': 106, 'gonna': 73, 'ive': 92, 'damage': 36, 'car': 24, 'crash': 34, 'breaking': 19, 'man': 114, 'love': 111, 'summer': 165, 'day': 37, 'shit': 155, 'like': 102, 'end': 49, 'rt': 144, 'set': 153, 'look': 108, 'night': 125, 'new': 123, 'head': 77, 'st': 159, 'police': 137, 'check': 26, 'youre': 199, 'dead': 38, 'time': 173, 'know': 96, 'life': 100, 'year': 197, 'home': 84, 'years': 198, 'black': 11, 'truck': 178, 'city': 27, 'amp': 1, 'fires': 6, 'does': 45, 'dont': 46, 'make': 112, 'work': 192, 'accident': 0, 'great': 76, 'pm': 136, 'god': 71, 'stop': 161, 'th': 167, 'right': 143, 'help': 79, 'today': 175, 'fucking': 68, 'killed': 95, 'going': 72, 'best': 10, 'really': 140, 'screaming': 151, 'bloody': 13, 'face': 53, 'way': 185, 'want': 180, 'say': 148, 'need': 122, 'debris': 41, 'good': 74, 'state': 160, 'wreck': 195, 'times': 174, 'little': 105, 'looks': 109, 'house': 88, 'cause': 25, 'come': 30, 'services': 152, 'destroy': 42, 'blood': 12, 'run': 145, 'news': 124, 'said': 146, 'hes': 80, 'body': 1, 'hit': 83, 'train': 176, 'thats': 168, 'weather': 188, 'army': 3, 'food': 66, 'wild': 189, 'world': 193, 'save': 147, 'survive': 166, 'boy': 18, 'watch': 183, 'feel': 60, 'hot': 87, 'lol': 107, 'high': 81, 'liked': 103, 'video': 179, 'read': 139, 'movie': 119, 'storm': 8, 'latest': 97, 'bad': 8, 'attack': 6, 'liked video': 104, 'did': 43, 'warning': 182, 'think': 170, 'collapse': 28, 'hope': 86, 'military': 117, 'japan': 93, 'war': 181, 'northern': 126, 'northern california': 127, 'death': 39, 'girl': 70, 'burning': 3, 'missing': 118, 'nuclear': 7, 'suicide': 9, 'bombing': 17, 'injured': 90, 'obama': 129, 'weapon': 186, 'released': 142, 'atomic': 5, 'says': 149, 'attacked': 7, 'families': 56, 'flames': 62, 'fall': 55, 'mass': 115, 'fear': 59, 'wildfire': 190, 'weapons': 187, 'old': 131, 'let': 99, 'bomb': 15, 'wind': 191, 'wounded': 194, 'lightning': 101, 'ass': 4, 'cross': 35, 'bags': 9, 'hiroshima': 82, 'plan': 135, 'natural': 120, 'homes': 85, 'buildings': 2, 'burning buildings': 22, 'sinking': 156, 'explode': 52, 'content': 33, 'water': 184, 'evacuate': 50, 'confirmed': 32, 'failure': 54, 'spill': 158, 'trapped': 177, 'oil': 130, 'thunderstorm': 172, 'collided': 29, 'injuries': 91, 'fatal': 57, 'mh': 116, 'severe': 154, 'legionnaires': 98, 'deaths': 40, 'malaysia': 113, 'floods': 65, 'loud': 110, 'thunder': 171, 'reddit': 141, 'fatalities': 58, 'wreckage': 196, 'outbreak': 132, 'bomber': 16, 'suicide bomber': 164}\n",
      "200\n",
      "10\n",
      "200\n"
     ]
    }
   ],
   "source": [
    "vocab1 = count_vectorizer1.vocabulary_\n",
    "vocab2 = count_vectorizer2.vocabulary_\n",
    "\n",
    "whole_vocab = {**vocab1, **vocab2}\n",
    "\n",
    "print(whole_vocab)\n",
    "print(len(vocab1))\n",
    "print(len(vocab2))\n",
    "print(len(whole_vocab))"
   ]
  },
  {
   "cell_type": "code",
   "execution_count": 26,
   "id": "53303aa3",
   "metadata": {},
   "outputs": [
    {
     "name": "stdout",
     "output_type": "stream",
     "text": [
      "(7613, 200)\n",
      "(7613, 10)\n"
     ]
    }
   ],
   "source": [
    "type(train_vectors2)\n",
    "\n",
    "print(train_vectors1.shape)\n",
    "print(train_vectors2.shape)\n",
    "\n",
    "import scipy\n",
    "from scipy.sparse import coo_matrix, hstack\n",
    "\n",
    "X_train = scipy.sparse.hstack([train_vectors1, train_vectors2])"
   ]
  },
  {
   "cell_type": "code",
   "execution_count": 27,
   "id": "db4495f1",
   "metadata": {
    "scrolled": true
   },
   "outputs": [
    {
     "data": {
      "text/plain": [
       "(7613, 210)"
      ]
     },
     "execution_count": 27,
     "metadata": {},
     "output_type": "execute_result"
    }
   ],
   "source": [
    "X_train.shape"
   ]
  },
  {
   "cell_type": "code",
   "execution_count": 28,
   "id": "db215fbf",
   "metadata": {},
   "outputs": [
    {
     "data": {
      "text/plain": [
       "(3263, 210)"
      ]
     },
     "execution_count": 28,
     "metadata": {},
     "output_type": "execute_result"
    }
   ],
   "source": [
    "# Creating X_test and y_test\n",
    "\n",
    "test_vectors1 = count_vectorizer1.transform(X_test['text'])\n",
    "test_vectors2 = count_vectorizer2.transform(X_test['keyword'])\n",
    "X_test = scipy.sparse.hstack([test_vectors1, test_vectors2])\n",
    "\n",
    "X_test.shape\n"
   ]
  },
  {
   "cell_type": "code",
   "execution_count": 29,
   "id": "4fd611f7",
   "metadata": {},
   "outputs": [],
   "source": [
    "X_train, X_val, y_train, y_val = train_test_split(X_train, y_train, \n",
    "                                                  train_size = 0.7, random_state = 123)"
   ]
  },
  {
   "cell_type": "code",
   "execution_count": 30,
   "id": "16d90881",
   "metadata": {},
   "outputs": [],
   "source": [
    "# Let's try scaling our data \n",
    "\n",
    "from sklearn.preprocessing import MaxAbsScaler\n",
    "\n",
    "#define the scaler\n",
    "scaler = MaxAbsScaler()\n",
    "\n",
    "#fit the scaler on the training\n",
    "\n",
    "#trasform the input\n",
    "\n",
    "X_train_sc = scaler.fit(X_train)\n",
    "X_train = X_train_sc.transform(X_train)\n",
    "X_test = X_train_sc.transform(X_test)\n",
    "\n"
   ]
  },
  {
   "cell_type": "markdown",
   "id": "410752b7",
   "metadata": {},
   "source": [
    "## Logistic Regression"
   ]
  },
  {
   "cell_type": "code",
   "execution_count": 31,
   "id": "f4290f15",
   "metadata": {},
   "outputs": [],
   "source": [
    "from sklearn import linear_model, model_selection\n",
    "\n",
    "\n",
    "from sklearn.model_selection import GridSearchCV #import the library\n",
    "\n",
    "param_grid_test = {\n",
    "    'C': [0.1, 0.5, 1, 5, 10, 15, 20],\n",
    "    'fit_intercept': [True, False]\n",
    "}\n",
    "\n",
    "#target classifier\n",
    "lr = LogisticRegression(max_iter = 300)\n",
    "\n",
    "#grid-search object\n",
    "clf_lr = GridSearchCV(estimator= lr, param_grid=param_grid_test, \n",
    "                   cv = 10, scoring = \"accuracy\")\n",
    "\n"
   ]
  },
  {
   "cell_type": "code",
   "execution_count": 32,
   "id": "aa3d0c59",
   "metadata": {},
   "outputs": [
    {
     "name": "stdout",
     "output_type": "stream",
     "text": [
      "{'C': 5, 'fit_intercept': True}\n",
      "0.735595437938185\n",
      "Logistic Regression.\tTrain ACC: 0.7558641396134359\n",
      "Logistic Regression.\tVal ACC: 0.7338003502626971\n"
     ]
    }
   ],
   "source": [
    "clf_lr.fit(X_train, y_train)\n",
    "\n",
    "y_train_pred_lr = clf_lr.predict(X_train)\n",
    "y_val_pred_lr = clf_lr.predict(X_val)\n",
    "\n",
    "\n",
    "print(clf_lr.best_params_)\n",
    "print(clf_lr.best_score_)\n",
    "print(f\"Logistic Regression.\\tTrain ACC: {accuracy_score(y_train, y_train_pred_lr)}\")\n",
    "print(f\"Logistic Regression.\\tVal ACC: {accuracy_score(y_val, y_val_pred_lr)}\")"
   ]
  },
  {
   "cell_type": "code",
   "execution_count": 33,
   "id": "7f96ed2f",
   "metadata": {},
   "outputs": [],
   "source": [
    "# The error above suggests us to scale the data / increase maximum number of iterations (see LAB 3)\n",
    "\n",
    "#Possible improvements:\n",
    "#-lemmatization: actually lowers accuracy \n",
    "#- scaling: accuracy roughly same (75%)\n"
   ]
  },
  {
   "cell_type": "markdown",
   "id": "f479e50f",
   "metadata": {},
   "source": [
    "## KNN"
   ]
  },
  {
   "cell_type": "code",
   "execution_count": 34,
   "id": "7f4863d9",
   "metadata": {},
   "outputs": [
    {
     "data": {
      "image/png": "[encoded data removed]",
      "text/plain": [
       "<Figure size 720x576 with 1 Axes>"
      ]
     },
     "metadata": {
      "needs_background": "light"
     },
     "output_type": "display_data"
    }
   ],
   "source": [
    "\n",
    "from sklearn.neighbors import KNeighborsClassifier\n",
    "\n",
    "\n",
    "accuracy_values_train = []\n",
    "accuracy_values_val = []\n",
    "k_values = range(1, 20)\n",
    "\n",
    "\n",
    "for k in k_values:\n",
    "  model = KNeighborsClassifier(n_neighbors=k)\n",
    "  model.fit(X_train, y_train)\n",
    "  y_pred_train = model.predict(X_train)\n",
    "  y_pred_val = model.predict(X_val)\n",
    "  accuracy_values_train.append(accuracy_score(y_pred_train, y_train))\n",
    "  accuracy_values_val.append(accuracy_score(y_pred_val, y_val))\n",
    "\n",
    "    \n",
    "fig = plt.figure(figsize=(10,8))\n",
    "plt.plot(k_values, accuracy_values_train, label=\"train\")\n",
    "plt.plot(k_values, accuracy_values_val, label=\"val\")\n",
    "plt.xlabel(\"K\")\n",
    "plt.ylabel(\"Accuracy\")\n",
    "plt.legend()\n",
    "plt.show()\n",
    "\n",
    "#Highest accuracy for KNN is reached with K=6 (on validation set ), but its suboptimal (72%) \n"
   ]
  },
  {
   "cell_type": "markdown",
   "id": "9c89f8e3",
   "metadata": {},
   "source": [
    "## Decision Trees "
   ]
  },
  {
   "cell_type": "code",
   "execution_count": 35,
   "id": "250b6c85",
   "metadata": {},
   "outputs": [],
   "source": [
    "from sklearn import tree\n",
    "\n",
    "param_grid_test = {\n",
    "    'max_depth': [50,100,120,150,175,200,300,500],\n",
    "    'max_features': [100,150,200],\n",
    "    'min_samples_leaf':[1,3,5,7]\n",
    "}\n",
    "\n",
    "#target classifier\n",
    "tree = tree.DecisionTreeClassifier(criterion='entropy')\n",
    "\n",
    "#grid-search object\n",
    "clf_tree = GridSearchCV(estimator= tree, param_grid=param_grid_test, \n",
    "                   cv = 10, scoring = \"accuracy\")\n"
   ]
  },
  {
   "cell_type": "code",
   "execution_count": 36,
   "id": "7fed1792",
   "metadata": {},
   "outputs": [
    {
     "name": "stdout",
     "output_type": "stream",
     "text": [
      "Decision Tree.\tTrain ACC: 0.7558641396134359\n",
      "Decision Tree.\tVal ACC: 0.7338003502626971\n"
     ]
    }
   ],
   "source": [
    "#clf_tree = tree.DecisionTreeClassifier(criterion='entropy') #, min_samples_leaf=15, max_depth=4)\n",
    "#clf = tree.DecisionTreeClassifier(criterion='entropy', min_samples_leaf=2)\n",
    "#clf = tree.DecisionTreeClassifier(criterion='entropy', min_samples_leaf=2, max_depth=4) # options to control the complexity of the tree while learning\n",
    "clf_tree.fit(X_train, y_train)\n",
    "\n",
    "y_train_pred_tree = clf_tree.predict(X_train)\n",
    "y_val_pred_tree = clf_tree.predict(X_val)\n",
    "\n",
    "print(f\"Decision Tree.\\tTrain ACC: {accuracy_score(y_train, y_train_pred_lr)}\")\n",
    "print(f\"Decision Tree.\\tVal ACC: {accuracy_score(y_val, y_val_pred_lr)}\")"
   ]
  },
  {
   "cell_type": "code",
   "execution_count": 37,
   "id": "0fd2700d",
   "metadata": {},
   "outputs": [
    {
     "data": {
      "text/plain": [
       "GridSearchCV(cv=10, error_score=nan,\n",
       "             estimator=DecisionTreeClassifier(ccp_alpha=0.0, class_weight=None,\n",
       "                                              criterion='entropy',\n",
       "                                              max_depth=None, max_features=None,\n",
       "                                              max_leaf_nodes=None,\n",
       "                                              min_impurity_decrease=0.0,\n",
       "                                              min_impurity_split=None,\n",
       "                                              min_samples_leaf=1,\n",
       "                                              min_samples_split=2,\n",
       "                                              min_weight_fraction_leaf=0.0,\n",
       "                                              random_state=None,\n",
       "                                              splitter='best'),\n",
       "             n_jobs=None,\n",
       "             param_grid={'max_depth': [50, 100, 120, 150, 175, 200, 300, 500],\n",
       "                         'max_features': [100, 150, 200],\n",
       "                         'min_samples_leaf': [1, 3, 5, 7]},\n",
       "             pre_dispatch='2*n_jobs', refit=True, return_train_score=False,\n",
       "             scoring='accuracy', verbose=0)"
      ]
     },
     "execution_count": 37,
     "metadata": {},
     "output_type": "execute_result"
    }
   ],
   "source": [
    "sklearn.set_config(print_changed_only=False)\n",
    "\n",
    "clf_tree"
   ]
  },
  {
   "cell_type": "code",
   "execution_count": 38,
   "id": "91928649",
   "metadata": {},
   "outputs": [
    {
     "name": "stdout",
     "output_type": "stream",
     "text": [
      "['earthquake', 'forest', 'near', 'evacuation', 'people', 'california', 'just', 'got', 'photo', 'smoke', 'school', 'flood', 'disaster', 'rain', 'flooding', 'im', 'theres', 'emergency', 'coming', 'area', 'heat', 'getting', 'live', 'gonna', 'ive', 'damage', 'car', 'crash', 'breaking', 'man', 'love', 'summer', 'day', 'shit', 'like', 'end', 'rt', 'set', 'look', 'night', 'new', 'head', 'st', 'police', 'check', 'youre', 'dead', 'time', 'know', 'life', 'year', 'home', 'years', 'black', 'truck', 'city', 'amp', 'fires', 'does', 'dont', 'make', 'work', 'accident', 'great', 'pm', 'god', 'stop', 'th', 'right', 'help', 'today', 'fucking', 'killed', 'going', 'best', 'really', 'screaming', 'bloody', 'face', 'way', 'want', 'say', 'need', 'debris', 'good', 'state', 'wreck', 'times', 'little', 'looks', 'house', 'cause', 'come', 'services', 'destroy', 'blood', 'run', 'news', 'said', 'hes', 'body', 'hit', 'train', 'thats', 'weather', 'army', 'food', 'wild', 'world', 'save', 'survive', 'boy', 'watch', 'feel', 'hot', 'lol', 'high', 'liked', 'video', 'read', 'movie', 'storm', 'latest', 'bad', 'attack', 'liked video', 'did', 'warning', 'think', 'collapse', 'hope', 'military', 'japan', 'war', 'northern', 'northern california', 'death', 'girl', 'burning', 'missing', 'nuclear', 'suicide', 'bombing', 'injured', 'obama', 'weapon', 'released', 'atomic', 'says', 'attacked', 'families', 'flames', 'fall', 'mass', 'fear', 'wildfire', 'weapons', 'old', 'let', 'bomb', 'wind', 'wounded', 'lightning', 'ass', 'cross', 'bags', 'hiroshima', 'plan', 'natural', 'homes', 'buildings', 'burning buildings', 'sinking', 'explode', 'content', 'water', 'evacuate', 'confirmed', 'failure', 'spill', 'trapped', 'oil', 'thunderstorm', 'collided', 'injuries', 'fatal', 'mh', 'severe', 'legionnaires', 'deaths', 'malaysia', 'floods', 'loud', 'thunder', 'reddit', 'fatalities', 'wreckage', 'outbreak', 'bomber', 'suicide bomber']\n"
     ]
    }
   ],
   "source": [
    "classname = ['no disaster', 'disaster']\n",
    "\n",
    "vocab = list(whole_vocab.keys())\n",
    "print(vocab)"
   ]
  },
  {
   "cell_type": "code",
   "execution_count": 39,
   "id": "4236d37d",
   "metadata": {},
   "outputs": [],
   "source": [
    "# Can't visualize the tree :("
   ]
  },
  {
   "cell_type": "markdown",
   "id": "ca78e5fc",
   "metadata": {},
   "source": [
    "## Neural Networks"
   ]
  },
  {
   "cell_type": "markdown",
   "id": "4c98da8e",
   "metadata": {},
   "source": [
    "Unfortunately, Decision trees don't seem to improve perfomance (we are still around 75%). \n",
    "\n",
    "So we try neural nets, but first reload all code in order for it to be adaptable to nns. "
   ]
  },
  {
   "cell_type": "code",
   "execution_count": 40,
   "id": "51a86039",
   "metadata": {},
   "outputs": [
    {
     "name": "stderr",
     "output_type": "stream",
     "text": [
      "<ipython-input-40-856d0c30b883>:48: SettingWithCopyWarning: \n",
      "A value is trying to be set on a copy of a slice from a DataFrame.\n",
      "Try using .loc[row_indexer,col_indexer] = value instead\n",
      "\n",
      "See the caveats in the documentation: https://pandas.pydata.org/pandas-docs/stable/user_guide/indexing.html#returning-a-view-versus-a-copy\n",
      "  X_train['keyword'] = X_train['keyword'].fillna(0)\n",
      "<ipython-input-40-856d0c30b883>:49: SettingWithCopyWarning: \n",
      "A value is trying to be set on a copy of a slice from a DataFrame.\n",
      "Try using .loc[row_indexer,col_indexer] = value instead\n",
      "\n",
      "See the caveats in the documentation: https://pandas.pydata.org/pandas-docs/stable/user_guide/indexing.html#returning-a-view-versus-a-copy\n",
      "  X_train['keyword'] = X_train['keyword'].astype(str)\n",
      "<ipython-input-40-856d0c30b883>:50: SettingWithCopyWarning: \n",
      "A value is trying to be set on a copy of a slice from a DataFrame.\n",
      "Try using .loc[row_indexer,col_indexer] = value instead\n",
      "\n",
      "See the caveats in the documentation: https://pandas.pydata.org/pandas-docs/stable/user_guide/indexing.html#returning-a-view-versus-a-copy\n",
      "  X_test['keyword'] = X_test['keyword'].fillna(0)\n",
      "<ipython-input-40-856d0c30b883>:51: SettingWithCopyWarning: \n",
      "A value is trying to be set on a copy of a slice from a DataFrame.\n",
      "Try using .loc[row_indexer,col_indexer] = value instead\n",
      "\n",
      "See the caveats in the documentation: https://pandas.pydata.org/pandas-docs/stable/user_guide/indexing.html#returning-a-view-versus-a-copy\n",
      "  X_test['keyword'] = X_test['keyword'].astype(str)\n"
     ]
    }
   ],
   "source": [
    "#Loading the dataset \n",
    "\n",
    "url = 'https://www.math.unipd.it/~dasan/disaster/'\n",
    "train_df = pd.read_csv(url + 'train.csv', sep=\",\") \n",
    "test_df = pd.read_csv(url + 'test.csv', sep=\",\") \n",
    "\n",
    "train_df = train_df.drop('id', axis=1)\n",
    "train_df = train_df.drop('location', axis=1)\n",
    "\n",
    "\n",
    "train_df['keyword'] = train_df['keyword'].str.replace('%20',' ')\n",
    "test_df['keyword'] = test_df['keyword'].str.replace('%20',' ')\n",
    "\n",
    "# The keyword column actually seems useful, let's keep it \n",
    "\n",
    "# Utility functions for cleaning text of tweets \n",
    "def url_remover(text):\n",
    "    text1 = re.sub(r'http?:\\/\\/.*[\\r\\n]*', \"\", text)\n",
    "    text2 = re.sub(r'https:\\/\\/.*[\\r\\n]*', \"\", text1)\n",
    "    text3 = \" \".join(word for word in text2.split() if not word.startswith('@'))\n",
    "    return text3.casefold().strip()\n",
    "\n",
    "def special_chars_remover(text):\n",
    "    text1 = re.sub(r\"[^a-zA\\s]\", \"\", text)\n",
    "    text2 = text1.replace(\"#\", \"\").strip()\n",
    "    #text2 = ' '.join(filter(str.isalnum, text2))\n",
    "    return text2.strip()\n",
    "\n",
    "# Applying functions to the training and test sets \n",
    "train_df['text'] = train_df.text.apply(url_remover)\n",
    "\n",
    "train_df['text'] = train_df.text.apply(special_chars_remover)\n",
    "\n",
    "\n",
    "test_df[\"text\"] = test_df.text.apply(url_remover)\n",
    "\n",
    "\n",
    "test_df[\"text\"] = test_df.text.apply(special_chars_remover)\n",
    "\n",
    "\n",
    "X_train = train_df[['text', 'keyword']]\n",
    "y_train = train_df['target']\n",
    "\n",
    "X_test = test_df[['text', 'keyword']]\n",
    "\n",
    "# Replace nans in keyword columns with zeroes \n",
    "\n",
    "X_train['keyword'] = X_train['keyword'].fillna(0)\n",
    "X_train['keyword'] = X_train['keyword'].astype(str)\n",
    "X_test['keyword'] = X_test['keyword'].fillna(0)\n",
    "X_test['keyword'] = X_test['keyword'].astype(str)"
   ]
  },
  {
   "cell_type": "code",
   "execution_count": 41,
   "id": "71c6b53a",
   "metadata": {},
   "outputs": [
    {
     "name": "stdout",
     "output_type": "stream",
     "text": [
      "X train shape: (7613, 210)\n",
      "X test shape: (3263, 210)\n"
     ]
    }
   ],
   "source": [
    "count_vectorizer1 = feature_extraction.text.CountVectorizer(ngram_range=(1,3), max_features=200,\n",
    "                                                          stop_words='english')\n",
    "\n",
    "count_vectorizer2 = feature_extraction.text.CountVectorizer(ngram_range=(1,3), max_features=10,\n",
    "                                                          stop_words='english')\n",
    "\n",
    "train_vectors1 =count_vectorizer1.fit_transform(X_train['text'])\n",
    "train_vectors2 = count_vectorizer2.fit_transform(X_train['keyword'])\n",
    "\n",
    "vocab1 = count_vectorizer1.vocabulary_\n",
    "vocab2 = count_vectorizer2.vocabulary_\n",
    "\n",
    "whole_vocab = {**vocab1, **vocab2}\n",
    "\n",
    "\n",
    "\n",
    "\n",
    "test_vectors1 = count_vectorizer1.transform(X_test['text'])\n",
    "test_vectors2 = count_vectorizer2.transform(X_test['keyword'])\n",
    "\n",
    "import scipy\n",
    "from scipy.sparse import coo_matrix, hstack\n",
    "\n",
    "X_train = scipy.sparse.hstack([train_vectors1, train_vectors2])\n",
    "\n",
    "X_test = scipy.sparse.hstack([test_vectors1, test_vectors2])\n",
    "\n",
    "from scipy.sparse import csr_matrix\n",
    "\n",
    "X_train = csr_matrix(X_train).toarray()\n",
    "X_test = csr_matrix(X_test).toarray()\n",
    "\n",
    "print(\"X train shape: {}\".format(X_train.shape))\n",
    "print(\"X test shape: {}\".format(X_test.shape))\n",
    "\n"
   ]
  },
  {
   "cell_type": "code",
   "execution_count": 42,
   "id": "d82a725d",
   "metadata": {},
   "outputs": [
    {
     "name": "stdout",
     "output_type": "stream",
     "text": [
      "0       1\n",
      "1       1\n",
      "2       1\n",
      "3       1\n",
      "4       1\n",
      "       ..\n",
      "7608    1\n",
      "7609    1\n",
      "7610    1\n",
      "7611    1\n",
      "7612    1\n",
      "Name: target, Length: 7613, dtype: int64\n"
     ]
    },
    {
     "data": {
      "text/plain": [
       "array([-1,  1], dtype=int64)"
      ]
     },
     "execution_count": 42,
     "metadata": {},
     "output_type": "execute_result"
    }
   ],
   "source": [
    "feature_vector_length = 210\n",
    "num_classes = 2\n",
    "\n",
    "\n",
    "print(y_train)\n",
    "\n",
    "y_train_nn = np.where(y_train==0, -1, y_train) \n",
    "\n",
    "type(y_train_nn)\n",
    "np.unique(y_train_nn)"
   ]
  },
  {
   "cell_type": "code",
   "execution_count": 48,
   "id": "b9a557a2",
   "metadata": {},
   "outputs": [
    {
     "data": {
      "text/plain": [
       "(7613,)"
      ]
     },
     "execution_count": 48,
     "metadata": {},
     "output_type": "execute_result"
    }
   ],
   "source": [
    "X_train.shape\n",
    "y_train.shape"
   ]
  },
  {
   "cell_type": "code",
   "execution_count": 49,
   "id": "67dbbfbc",
   "metadata": {},
   "outputs": [
    {
     "name": "stdout",
     "output_type": "stream",
     "text": [
      "{0, 1} 2\n"
     ]
    }
   ],
   "source": [
    "# Configuration options\n",
    "#see the number of labels\n",
    "labels = set(y_train)\n",
    "print(labels, len(labels))"
   ]
  },
  {
   "cell_type": "code",
   "execution_count": 51,
   "id": "f06a8e1e",
   "metadata": {},
   "outputs": [
    {
     "name": "stdout",
     "output_type": "stream",
     "text": [
      "210 2\n"
     ]
    }
   ],
   "source": [
    "# Configuration options\n",
    "feature_vector_length = X_train.shape[1] #how many features\n",
    "num_classes = len(labels) #how many classes\n",
    "\n",
    "print(feature_vector_length, num_classes)\n",
    "\n",
    "y_train_cat = to_categorical(y_train, num_classes)"
   ]
  },
  {
   "cell_type": "code",
   "execution_count": 52,
   "id": "00ec3857",
   "metadata": {
    "scrolled": true
   },
   "outputs": [
    {
     "name": "stdout",
     "output_type": "stream",
     "text": [
      "Model: \"sequential_1\"\n",
      "_________________________________________________________________\n",
      " Layer (type)                Output Shape              Param #   \n",
      "=================================================================\n",
      " dense_2 (Dense)             (None, 210)               44310     \n",
      "                                                                 \n",
      " dense_3 (Dense)             (None, 2)                 422       \n",
      "                                                                 \n",
      "=================================================================\n",
      "Total params: 44,732\n",
      "Trainable params: 44,732\n",
      "Non-trainable params: 0\n",
      "_________________________________________________________________\n",
      "None\n"
     ]
    }
   ],
   "source": [
    "np.random.seed(123)\n",
    "set_random_seed(2)\n",
    "\n",
    "model = Sequential() #we first define how the \"model\" looks like\n",
    "model.add(Dense(input_dim = feature_vector_length, units=feature_vector_length , activation='relu')) #input layer\n",
    "model.add(Dense(num_classes, activation='softmax')) #output layer\n",
    "print(model.summary())\n",
    "#plot_model(model, show_shapes= True)"
   ]
  },
  {
   "cell_type": "code",
   "execution_count": 53,
   "id": "9f01c258",
   "metadata": {},
   "outputs": [
    {
     "name": "stdout",
     "output_type": "stream",
     "text": [
      "Epoch 1/5\n",
      "857/857 [==============================] - 5s 5ms/step - loss: 0.6677 - accuracy: 0.6043 - val_loss: 0.6496 - val_accuracy: 0.6575\n",
      "Epoch 2/5\n",
      "857/857 [==============================] - 2s 2ms/step - loss: 0.6348 - accuracy: 0.6679 - val_loss: 0.6191 - val_accuracy: 0.6969\n",
      "Epoch 3/5\n",
      "857/857 [==============================] - 2s 2ms/step - loss: 0.6072 - accuracy: 0.6922 - val_loss: 0.5889 - val_accuracy: 0.7441\n",
      "Epoch 4/5\n",
      "857/857 [==============================] - 2s 2ms/step - loss: 0.5833 - accuracy: 0.7192 - val_loss: 0.5669 - val_accuracy: 0.7428\n",
      "Epoch 5/5\n",
      "857/857 [==============================] - 3s 4ms/step - loss: 0.5652 - accuracy: 0.7307 - val_loss: 0.5512 - val_accuracy: 0.7480\n"
     ]
    }
   ],
   "source": [
    "model.compile(loss='categorical_crossentropy', #loss metric\n",
    "    optimizer='sgd',  #optimizer\n",
    "    metrics=['accuracy']) #displayed metric\n",
    "\n",
    "\n",
    "#fit\n",
    "history = model.fit(X_train, y_train_cat, epochs=5, batch_size=8, verbose=1, validation_split=0.1)"
   ]
  },
  {
   "cell_type": "code",
   "execution_count": 54,
   "id": "3dc7da4b",
   "metadata": {},
   "outputs": [
    {
     "data": {
      "image/png": "[encoded data removed]",
      "text/plain": [
       "<Figure size 432x288 with 1 Axes>"
      ]
     },
     "metadata": {
      "needs_background": "light"
     },
     "output_type": "display_data"
    }
   ],
   "source": [
    "# summarize history for accuracy\n",
    "plt.plot(history.history['accuracy'])\n",
    "plt.plot(history.history['val_accuracy'])\n",
    "plt.title('model accuracy')\n",
    "plt.ylabel('accuracy')\n",
    "plt.xlabel('epoch')\n",
    "plt.legend(['train', 'val'], loc='upper left')\n",
    "# plt.ylim(0.8, 1)\n",
    "plt.show()"
   ]
  },
  {
   "cell_type": "code",
   "execution_count": 55,
   "id": "d1b5849d",
   "metadata": {},
   "outputs": [
    {
     "data": {
      "image/png": "[encoded data removed]",
      "text/plain": [
       "<Figure size 432x288 with 1 Axes>"
      ]
     },
     "metadata": {
      "needs_background": "light"
     },
     "output_type": "display_data"
    }
   ],
   "source": [
    "# summarize history for loss\n",
    "plt.plot(history.history['loss'])\n",
    "plt.plot(history.history['val_loss'])\n",
    "plt.title('model loss')\n",
    "plt.ylabel('loss')\n",
    "plt.xlabel('epoch')\n",
    "plt.legend(['train', 'val'], loc='upper left')\n",
    "plt.show()"
   ]
  },
  {
   "cell_type": "code",
   "execution_count": 87,
   "id": "8cc053cd",
   "metadata": {},
   "outputs": [],
   "source": [
    "\n",
    "\n",
    "def MLP_definer2(n_layers, input_size, n_classes):\n",
    "    #seed\n",
    "    np.random.seed(123)\n",
    "    set_random_seed(2)\n",
    "    \n",
    "    #define a sequential model\n",
    "    model = Sequential()\n",
    "\n",
    "    if n_layers == 0:\n",
    "        model.add(Dense(input_dim= input_size, units = input_size, activation= 'softmax'))\n",
    "    else:\n",
    "        #define the first layer \n",
    "        for i in range(n_layers):\n",
    "            if i == 0: #input layer\n",
    "                model.add(Dense(units = input_size, input_dim = input_size, activation='relu'))\n",
    "            else:\n",
    "                model.add(Dense(units = (input_size*2)/3, activation = 'relu'))\n",
    "\n",
    "    model.add(Dense(units = n_classes, activation= 'sigmoid'))\n",
    "\n",
    "    # Configure the model and start training\n",
    "    model.compile(loss='categorical_crossentropy', #loss metric\n",
    "              optimizer='sgd',  #optimizer\n",
    "              metrics=['accuracy']) #displayed metric\n",
    "\n",
    "    return model"
   ]
  },
  {
   "cell_type": "code",
   "execution_count": 88,
   "id": "5f1a471d",
   "metadata": {},
   "outputs": [
    {
     "name": "stdout",
     "output_type": "stream",
     "text": [
      "Model: \"sequential_53\"\n",
      "_________________________________________________________________\n",
      " Layer (type)                Output Shape              Param #   \n",
      "=================================================================\n",
      " dense_200 (Dense)           (None, 210)               44310     \n",
      "                                                                 \n",
      " dense_201 (Dense)           (None, 2)                 422       \n",
      "                                                                 \n",
      "=================================================================\n",
      "Total params: 44,732\n",
      "Trainable params: 44,732\n",
      "Non-trainable params: 0\n",
      "_________________________________________________________________\n",
      "None\n",
      "Model: \"sequential_54\"\n",
      "_________________________________________________________________\n",
      " Layer (type)                Output Shape              Param #   \n",
      "=================================================================\n",
      " dense_202 (Dense)           (None, 210)               44310     \n",
      "                                                                 \n",
      " dense_203 (Dense)           (None, 2)                 422       \n",
      "                                                                 \n",
      "=================================================================\n",
      "Total params: 44,732\n",
      "Trainable params: 44,732\n",
      "Non-trainable params: 0\n",
      "_________________________________________________________________\n",
      "None\n",
      "Model: \"sequential_55\"\n",
      "_________________________________________________________________\n",
      " Layer (type)                Output Shape              Param #   \n",
      "=================================================================\n",
      " dense_204 (Dense)           (None, 210)               44310     \n",
      "                                                                 \n",
      " dense_205 (Dense)           (None, 140)               29540     \n",
      "                                                                 \n",
      " dense_206 (Dense)           (None, 2)                 282       \n",
      "                                                                 \n",
      "=================================================================\n",
      "Total params: 74,132\n",
      "Trainable params: 74,132\n",
      "Non-trainable params: 0\n",
      "_________________________________________________________________\n",
      "None\n",
      "Epoch 00043: early stopping\n",
      "N layers:2\t\tTrain ACC:0.75876987\tVal ACC:0.71103328\n",
      "\n",
      "\n",
      "\n",
      "\n",
      "\n"
     ]
    }
   ],
   "source": [
    "nlayers = [0,1,2]\n",
    "\n",
    "for nl in nlayers:\n",
    "    #create the MLP\n",
    "    m = MLP_definer2(n_layers= nl, input_size=feature_vector_length, n_classes= 2)\n",
    "    print(m.summary())\n",
    "\n",
    "    #train our model\n",
    "h = m.fit(X_train, y_train_cat, epochs=500, \n",
    "          batch_size=50, verbose=0, validation_split=0.15, \n",
    "          callbacks=[es])\n",
    "print(f\"N layers:{nl}\\t\\tTrain ACC:{h.history['accuracy'][-1]:.8f}\\tVal ACC:{h.history['val_accuracy'][-1]:.8f}\")\n",
    "    \n",
    "print(\"\\n\\n\\n\\n\")"
   ]
  },
  {
   "cell_type": "code",
   "execution_count": null,
   "id": "3ced5f41",
   "metadata": {},
   "outputs": [],
   "source": [
    "# Reached 71% accuracy with neural net \n",
    "# Surely, can be improved by \n",
    "# - choosing better the activation fucntion and n of neurons in each layer \n",
    "# - preprocessing better the text data \n",
    "# - changing the n of layers \n",
    "# - changing type of layers? "
   ]
  },
  {
   "cell_type": "code",
   "execution_count": null,
   "id": "599675ab",
   "metadata": {},
   "outputs": [],
   "source": []
  },
  {
   "cell_type": "code",
   "execution_count": null,
   "id": "cdcf387c",
   "metadata": {},
   "outputs": [],
   "source": []
  },
  {
   "cell_type": "code",
   "execution_count": null,
   "id": "1fcf09b5",
   "metadata": {},
   "outputs": [],
   "source": []
  }
 ],
 "metadata": {
  "kernelspec": {
   "display_name": "Python 3",
   "language": "python",
   "name": "python3"
  },
  "language_info": {
   "codemirror_mode": {
    "name": "ipython",
    "version": 3
   },
   "file_extension": ".py",
   "mimetype": "text/x-python",
   "name": "python",
   "nbconvert_exporter": "python",
   "pygments_lexer": "ipython3",
   "version": "3.8.10"
  }
 },
 "nbformat": 4,
 "nbformat_minor": 5
}

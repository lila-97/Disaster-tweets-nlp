{
 "cells": [
  {
   "cell_type": "markdown",
   "id": "49e1570b",
   "metadata": {},
   "source": [
    "# Project: Disaster Tweets \n",
    "\n",
    "Twitter has become an important communication channel in times of emergency.\n",
    "The ubiquitousness of smartphones enables people to announce an emergency they’re observing in real-time. Because of this, more agencies are interested in programatically monitoring Twitter (i.e. disaster relief organizations and news agencies).\n",
    "\n",
    "But, it’s not always clear whether a person’s words are actually announcing a disaster. \n",
    "\n",
    "In this competition, you’re challenged to build a machine learning model that predicts which Tweets are about real disasters and which one’s aren’t. You’ll have access to a dataset of 10,000 tweets that were hand classified. "
   ]
  },
  {
   "cell_type": "code",
   "execution_count": 1,
   "id": "fb4ead06",
   "metadata": {},
   "outputs": [],
   "source": [
    "#Loading the necessary libraries \n",
    "\n",
    "import numpy as np\n",
    "import pandas as pd \n",
    "import seaborn as sns\n",
    "import matplotlib.pyplot as plt\n",
    "import re\n",
    "\n",
    "import sklearn \n",
    "from sklearn import feature_extraction, model_selection, linear_model\n",
    "\n",
    "import nltk \n",
    "from nltk.corpus import stopwords\n",
    "from nltk import sent_tokenize\n",
    "from nltk import word_tokenize\n",
    "\n",
    "from tensorflow.keras.models import Sequential \n",
    "from tensorflow.keras.layers import Input, Dense \n",
    "from tensorflow.keras.utils import to_categorical \n",
    "from tensorflow.python.framework.random_seed import set_random_seed\n",
    "\n",
    "from keras.utils.vis_utils import plot_model\n",
    "from keras.callbacks import EarlyStopping \n",
    "\n",
    "from sklearn.feature_extraction.text import CountVectorizer\n",
    "from sklearn.preprocessing import StandardScaler \n",
    "from sklearn.metrics import f1_score\n",
    "from sklearn.svm import SVC\n",
    "from sklearn.model_selection import GridSearchCV\n",
    "from sklearn.linear_model import LogisticRegression\n",
    "from sklearn.ensemble import RandomForestClassifier\n",
    "from sklearn.metrics import accuracy_score\n",
    "from sklearn.preprocessing import MaxAbsScaler\n",
    "from sklearn.model_selection import train_test_split\n",
    "from sklearn.metrics import confusion_matrix, ConfusionMatrixDisplay\n",
    "from sklearn.feature_extraction.text import TfidfVectorizer\n",
    "from sklearn.neighbors import KNeighborsClassifier\n",
    "from sklearn import tree\n",
    "\n",
    "import scipy \n",
    "from scipy import sparse\n",
    "from scipy.sparse import coo_matrix, hstack\n",
    "from scipy.sparse import csr_matrix"
   ]
  },
  {
   "cell_type": "markdown",
   "id": "7f36efdd",
   "metadata": {},
   "source": [
    "## EDA \n",
    "\n",
    "First, we look at the dataset. We can see that the two target classes are rather balanced in the training set (*real* disaster tweets: 3271, *fake* disaster tweets: 4342). \n",
    "\n",
    "We also observe that the id column doesn't provide any useful information and can be dropped. \n",
    "\n",
    "Moreover, analysis on the location column reveals that 30% of values are missing, and those that are there are expressed in a variety of formats (city, state, city+state...). Since location wouldn't probably have helped much our classification, as disasters can unfortunately happen anywhere, we discard this column as well. \n",
    "\n",
    "The keyword column seems to be useful, even with missing values. "
   ]
  },
  {
   "cell_type": "code",
   "execution_count": 2,
   "id": "498743b5",
   "metadata": {},
   "outputs": [
    {
     "data": {
      "text/html": [
       "<div>\n",
       "<style scoped>\n",
       "    .dataframe tbody tr th:only-of-type {\n",
       "        vertical-align: middle;\n",
       "    }\n",
       "\n",
       "    .dataframe tbody tr th {\n",
       "        vertical-align: top;\n",
       "    }\n",
       "\n",
       "    .dataframe thead th {\n",
       "        text-align: right;\n",
       "    }\n",
       "</style>\n",
       "<table border=\"1\" class=\"dataframe\">\n",
       "  <thead>\n",
       "    <tr style=\"text-align: right;\">\n",
       "      <th></th>\n",
       "      <th>id</th>\n",
       "      <th>keyword</th>\n",
       "      <th>location</th>\n",
       "      <th>text</th>\n",
       "      <th>target</th>\n",
       "    </tr>\n",
       "  </thead>\n",
       "  <tbody>\n",
       "    <tr>\n",
       "      <th>0</th>\n",
       "      <td>1</td>\n",
       "      <td>NaN</td>\n",
       "      <td>NaN</td>\n",
       "      <td>Our Deeds are the Reason of this #earthquake M...</td>\n",
       "      <td>1</td>\n",
       "    </tr>\n",
       "    <tr>\n",
       "      <th>1</th>\n",
       "      <td>4</td>\n",
       "      <td>NaN</td>\n",
       "      <td>NaN</td>\n",
       "      <td>Forest fire near La Ronge Sask. Canada</td>\n",
       "      <td>1</td>\n",
       "    </tr>\n",
       "    <tr>\n",
       "      <th>2</th>\n",
       "      <td>5</td>\n",
       "      <td>NaN</td>\n",
       "      <td>NaN</td>\n",
       "      <td>All residents asked to 'shelter in place' are ...</td>\n",
       "      <td>1</td>\n",
       "    </tr>\n",
       "    <tr>\n",
       "      <th>3</th>\n",
       "      <td>6</td>\n",
       "      <td>NaN</td>\n",
       "      <td>NaN</td>\n",
       "      <td>13,000 people receive #wildfires evacuation or...</td>\n",
       "      <td>1</td>\n",
       "    </tr>\n",
       "    <tr>\n",
       "      <th>4</th>\n",
       "      <td>7</td>\n",
       "      <td>NaN</td>\n",
       "      <td>NaN</td>\n",
       "      <td>Just got sent this photo from Ruby #Alaska as ...</td>\n",
       "      <td>1</td>\n",
       "    </tr>\n",
       "  </tbody>\n",
       "</table>\n",
       "</div>"
      ],
      "text/plain": [
       "   id keyword location                                               text  \\\n",
       "0   1     NaN      NaN  Our Deeds are the Reason of this #earthquake M...   \n",
       "1   4     NaN      NaN             Forest fire near La Ronge Sask. Canada   \n",
       "2   5     NaN      NaN  All residents asked to 'shelter in place' are ...   \n",
       "3   6     NaN      NaN  13,000 people receive #wildfires evacuation or...   \n",
       "4   7     NaN      NaN  Just got sent this photo from Ruby #Alaska as ...   \n",
       "\n",
       "   target  \n",
       "0       1  \n",
       "1       1  \n",
       "2       1  \n",
       "3       1  \n",
       "4       1  "
      ]
     },
     "execution_count": 2,
     "metadata": {},
     "output_type": "execute_result"
    }
   ],
   "source": [
    "#Loading the dataset \n",
    "\n",
    "url1 = 'https://raw.githubusercontent.com/lila-97/Disaster-tweets-nlp/main/train.csv'\n",
    "url2 = 'https://raw.githubusercontent.com/lila-97/Disaster-tweets-nlp/main/test.csv'\n",
    "train_df = pd.read_csv(url1, sep=\",\")\n",
    "test_df = pd.read_csv(url2, sep=\",\") \n",
    "\n",
    "\n",
    "# Exploring the dataset \n",
    "\n",
    "train_df.shape # The training set has 7613 rows and 5 columns \n",
    "\n",
    "train_df.head()"
   ]
  },
  {
   "cell_type": "code",
   "execution_count": 3,
   "id": "bfbd7374",
   "metadata": {},
   "outputs": [
    {
     "name": "stdout",
     "output_type": "stream",
     "text": [
      "The real disaster tweets are 3271\n",
      "The fake disaster tweets are 4342\n",
      "\n",
      "Hence, the two classes are balanced, although we have slightly more fake than real tweets\n",
      "The missing values for the keyword column are: 61\n",
      "There are 222 unique keywords in the dataframe\n",
      "\n",
      "The missing values for the location column are: 2533\n",
      "There are 3342 unique locations in the dataframe\n",
      "\n",
      "One can already assume that keywords are going to be more relevant than locations for classification, \n",
      "      as more than 30% of location values are missing\n"
     ]
    }
   ],
   "source": [
    "print(\"The real disaster tweets are {}\".format(len(train_df[train_df['target'] == 1])))\n",
    "print(\"The fake disaster tweets are {}\".format(len(train_df[train_df['target'] == 0])))\n",
    "print()\n",
    "print(\"Hence, the two classes are balanced, although we have slightly more fake than real tweets\")\n",
    "\n",
    "print(\"The missing values for the keyword column are: {}\".format(train_df[\"keyword\"].isna().sum()))\n",
    "print(\"There are {} unique keywords in the dataframe\".format(len(train_df[\"keyword\"].unique())))\n",
    "print()\n",
    "print(\"The missing values for the location column are: {}\".format(train_df[\"location\"].isna().sum()))\n",
    "print(\"There are {} unique locations in the dataframe\".format(len(train_df[\"location\"].unique())))\n",
    "print()\n",
    "print(\"\"\"One can already assume that keywords are going to be more relevant than locations for classification, \n",
    "      as more than 30% of location values are missing\"\"\")"
   ]
  },
  {
   "cell_type": "code",
   "execution_count": 7,
   "id": "b79089d2",
   "metadata": {},
   "outputs": [
    {
     "data": {
      "text/plain": [
       "False"
      ]
     },
     "execution_count": 7,
     "metadata": {},
     "output_type": "execute_result"
    }
   ],
   "source": [
    "#Find out if there is duplicates and nans in text column \n",
    "\n",
    "train_df.duplicated().sum()\n",
    "train_df['text'].isna().any()"
   ]
  },
  {
   "cell_type": "code",
   "execution_count": 5,
   "id": "9df2976c",
   "metadata": {},
   "outputs": [],
   "source": [
    "# Dropping location column because of too many different location formats and id columns \n",
    "# since it gives us no info \n",
    "train_df['location'].unique()\n",
    "\n",
    "#train_df = train_df.drop('location', axis=1)\n",
    "train_df = train_df.drop('id', axis=1)\n",
    "train_df = train_df.drop('location', axis=1)"
   ]
  },
  {
   "cell_type": "code",
   "execution_count": 6,
   "id": "0a955f33",
   "metadata": {},
   "outputs": [
    {
     "name": "stdout",
     "output_type": "stream",
     "text": [
      "221 221\n",
      "set()\n"
     ]
    },
    {
     "data": {
      "text/html": [
       "<div>\n",
       "<style scoped>\n",
       "    .dataframe tbody tr th:only-of-type {\n",
       "        vertical-align: middle;\n",
       "    }\n",
       "\n",
       "    .dataframe tbody tr th {\n",
       "        vertical-align: top;\n",
       "    }\n",
       "\n",
       "    .dataframe thead th {\n",
       "        text-align: right;\n",
       "    }\n",
       "</style>\n",
       "<table border=\"1\" class=\"dataframe\">\n",
       "  <thead>\n",
       "    <tr style=\"text-align: right;\">\n",
       "      <th></th>\n",
       "      <th>keyword</th>\n",
       "      <th>text</th>\n",
       "      <th>target</th>\n",
       "    </tr>\n",
       "  </thead>\n",
       "  <tbody>\n",
       "    <tr>\n",
       "      <th>0</th>\n",
       "      <td>NaN</td>\n",
       "      <td>Our Deeds are the Reason of this #earthquake M...</td>\n",
       "      <td>1</td>\n",
       "    </tr>\n",
       "    <tr>\n",
       "      <th>1</th>\n",
       "      <td>NaN</td>\n",
       "      <td>Forest fire near La Ronge Sask. Canada</td>\n",
       "      <td>1</td>\n",
       "    </tr>\n",
       "    <tr>\n",
       "      <th>2</th>\n",
       "      <td>NaN</td>\n",
       "      <td>All residents asked to 'shelter in place' are ...</td>\n",
       "      <td>1</td>\n",
       "    </tr>\n",
       "    <tr>\n",
       "      <th>3</th>\n",
       "      <td>NaN</td>\n",
       "      <td>13,000 people receive #wildfires evacuation or...</td>\n",
       "      <td>1</td>\n",
       "    </tr>\n",
       "    <tr>\n",
       "      <th>4</th>\n",
       "      <td>NaN</td>\n",
       "      <td>Just got sent this photo from Ruby #Alaska as ...</td>\n",
       "      <td>1</td>\n",
       "    </tr>\n",
       "  </tbody>\n",
       "</table>\n",
       "</div>"
      ],
      "text/plain": [
       "  keyword                                               text  target\n",
       "0     NaN  Our Deeds are the Reason of this #earthquake M...       1\n",
       "1     NaN             Forest fire near La Ronge Sask. Canada       1\n",
       "2     NaN  All residents asked to 'shelter in place' are ...       1\n",
       "3     NaN  13,000 people receive #wildfires evacuation or...       1\n",
       "4     NaN  Just got sent this photo from Ruby #Alaska as ...       1"
      ]
     },
     "execution_count": 6,
     "metadata": {},
     "output_type": "execute_result"
    }
   ],
   "source": [
    "# Check n of unique keywords and whether they are the same for train and test sets\n",
    "\n",
    "print (train_df.keyword.nunique(), test_df.keyword.nunique())\n",
    "print (set(train_df.keyword.unique()) - set(test_df.keyword.unique()))\n",
    "\n",
    "## COPY CODE ABOUT UNIQUE KEYWORDS AND COMMENT (we use keyword since top 10 keywords are not same)\n",
    "\n",
    "train_df.head()"
   ]
  },
  {
   "cell_type": "markdown",
   "id": "9a2ab8fe",
   "metadata": {},
   "source": [
    "## Text Preprocessing \n",
    "\n",
    "We now turn to preprocess the text of the two columns left, 'text' and 'keyword'. \n",
    "\n",
    "Looking at the unique values of 'keyword' column, we can immediately see that there are special characters instead of spaces, so we remove those and put spaces instead. \n",
    "\n",
    "We also remove special characters and urls from both columns thanks to utility functions. \n",
    "\n",
    "While the column 'text' has no missing values in it, the 'keyword' column does. We set those to 0 and convert to strings. This shouldn't affect our analysis (we will use CountVectorizer and none of the non-missing values have 0 in them so it should create a different token). \n",
    "\n"
   ]
  },
  {
   "cell_type": "code",
   "execution_count": 8,
   "id": "08fb74bf",
   "metadata": {},
   "outputs": [],
   "source": [
    "#Keyword column:\n",
    "\n",
    "#there are weird characters instead of spaces, quick fix for both test and training set \n",
    "\n",
    "train_df['keyword'] = train_df['keyword'].str.replace('%20',' ')\n",
    "test_df['keyword'] = test_df['keyword'].str.replace('%20',' ')"
   ]
  },
  {
   "cell_type": "code",
   "execution_count": 9,
   "id": "93800b8a",
   "metadata": {},
   "outputs": [],
   "source": [
    "# The keyword column actually seems useful, let's keep it \n",
    "\n",
    "# Utility functions for cleaning text of tweets \n",
    "def url_remover(text):\n",
    "    text1 = re.sub(r'http?:\\/\\/.*[\\r\\n]*', \"\", text)\n",
    "    text2 = re.sub(r'https:\\/\\/.*[\\r\\n]*', \"\", text1)\n",
    "    text3 = \" \".join(word for word in text2.split() if not word.startswith('@'))\n",
    "    return text3.casefold().strip()\n",
    "\n",
    "def special_chars_remover(text):\n",
    "    text1 = re.sub(r\"[^a-zA\\s]\", \"\", text)\n",
    "    text2 = text1.replace(\"#\", \"\").strip()\n",
    "    #text2 = ' '.join(filter(str.isalnum, text2))\n",
    "    return text2.strip()\n",
    "\n",
    "# Applying functions to the training and test sets \n",
    "train_df['text'] = train_df.text.apply(url_remover)\n",
    "\n",
    "train_df['text'] = train_df.text.apply(special_chars_remover)\n",
    "\n",
    "\n",
    "test_df[\"text\"] = test_df.text.apply(url_remover)\n",
    "\n",
    "\n",
    "test_df[\"text\"] = test_df.text.apply(special_chars_remover)"
   ]
  },
  {
   "cell_type": "code",
   "execution_count": 10,
   "id": "91639938",
   "metadata": {},
   "outputs": [
    {
     "data": {
      "text/plain": [
       "0    our deeds are the reason of this earthquake ma...\n",
       "1                forest fire near la ronge sask canada\n",
       "2    all residents asked to shelter in place are be...\n",
       "3    people receive wildfires evacuation orders in ...\n",
       "4    just got sent this photo from ruby alaska as s...\n",
       "Name: text, dtype: object"
      ]
     },
     "execution_count": 10,
     "metadata": {},
     "output_type": "execute_result"
    }
   ],
   "source": [
    "train_df['text'].head()"
   ]
  },
  {
   "cell_type": "code",
   "execution_count": 11,
   "id": "8a2b3973",
   "metadata": {},
   "outputs": [
    {
     "data": {
      "text/plain": [
       "0                   just happened a terrible car crash\n",
       "1    heard about earthquake is different cities sta...\n",
       "2    there is a forest fire at spot pond geese are ...\n",
       "3                apocalypse lighting spokane wildfires\n",
       "4          typhoon soudelor kills  in china and taiwan\n",
       "Name: text, dtype: object"
      ]
     },
     "execution_count": 11,
     "metadata": {},
     "output_type": "execute_result"
    }
   ],
   "source": [
    "test_df['text'].head()"
   ]
  },
  {
   "cell_type": "code",
   "execution_count": 12,
   "id": "a1e08c3a",
   "metadata": {},
   "outputs": [
    {
     "name": "stderr",
     "output_type": "stream",
     "text": [
      "<ipython-input-12-af780f71820a>:8: SettingWithCopyWarning: \n",
      "A value is trying to be set on a copy of a slice from a DataFrame.\n",
      "Try using .loc[row_indexer,col_indexer] = value instead\n",
      "\n",
      "See the caveats in the documentation: https://pandas.pydata.org/pandas-docs/stable/user_guide/indexing.html#returning-a-view-versus-a-copy\n",
      "  X_train['keyword'] = X_train['keyword'].fillna(0)\n",
      "<ipython-input-12-af780f71820a>:9: SettingWithCopyWarning: \n",
      "A value is trying to be set on a copy of a slice from a DataFrame.\n",
      "Try using .loc[row_indexer,col_indexer] = value instead\n",
      "\n",
      "See the caveats in the documentation: https://pandas.pydata.org/pandas-docs/stable/user_guide/indexing.html#returning-a-view-versus-a-copy\n",
      "  X_train['keyword'] = X_train['keyword'].astype(str)\n",
      "<ipython-input-12-af780f71820a>:10: SettingWithCopyWarning: \n",
      "A value is trying to be set on a copy of a slice from a DataFrame.\n",
      "Try using .loc[row_indexer,col_indexer] = value instead\n",
      "\n",
      "See the caveats in the documentation: https://pandas.pydata.org/pandas-docs/stable/user_guide/indexing.html#returning-a-view-versus-a-copy\n",
      "  X_test['keyword'] = X_test['keyword'].fillna(0)\n",
      "<ipython-input-12-af780f71820a>:11: SettingWithCopyWarning: \n",
      "A value is trying to be set on a copy of a slice from a DataFrame.\n",
      "Try using .loc[row_indexer,col_indexer] = value instead\n",
      "\n",
      "See the caveats in the documentation: https://pandas.pydata.org/pandas-docs/stable/user_guide/indexing.html#returning-a-view-versus-a-copy\n",
      "  X_test['keyword'] = X_test['keyword'].astype(str)\n"
     ]
    }
   ],
   "source": [
    "X_train = train_df[['text', 'keyword']]\n",
    "y_train = train_df['target']\n",
    "\n",
    "X_test = test_df[['text', 'keyword']]\n",
    "\n",
    "# Replace nans in keyword columns with zeroes \n",
    "\n",
    "X_train['keyword'] = X_train['keyword'].fillna(0)\n",
    "X_train['keyword'] = X_train['keyword'].astype(str)\n",
    "X_test['keyword'] = X_test['keyword'].fillna(0)\n",
    "X_test['keyword'] = X_test['keyword'].astype(str)"
   ]
  },
  {
   "cell_type": "code",
   "execution_count": 13,
   "id": "3835347d",
   "metadata": {},
   "outputs": [
    {
     "name": "stdout",
     "output_type": "stream",
     "text": [
      "X_train dim after processing: (7613, 2)\n",
      "y_train dim after processing: (7613,)\n",
      "X_test dim after processing: (3263, 2)\n"
     ]
    },
    {
     "data": {
      "text/html": [
       "<div>\n",
       "<style scoped>\n",
       "    .dataframe tbody tr th:only-of-type {\n",
       "        vertical-align: middle;\n",
       "    }\n",
       "\n",
       "    .dataframe tbody tr th {\n",
       "        vertical-align: top;\n",
       "    }\n",
       "\n",
       "    .dataframe thead th {\n",
       "        text-align: right;\n",
       "    }\n",
       "</style>\n",
       "<table border=\"1\" class=\"dataframe\">\n",
       "  <thead>\n",
       "    <tr style=\"text-align: right;\">\n",
       "      <th></th>\n",
       "      <th>text</th>\n",
       "      <th>keyword</th>\n",
       "    </tr>\n",
       "  </thead>\n",
       "  <tbody>\n",
       "    <tr>\n",
       "      <th>0</th>\n",
       "      <td>our deeds are the reason of this earthquake ma...</td>\n",
       "      <td>0</td>\n",
       "    </tr>\n",
       "    <tr>\n",
       "      <th>1</th>\n",
       "      <td>forest fire near la ronge sask canada</td>\n",
       "      <td>0</td>\n",
       "    </tr>\n",
       "    <tr>\n",
       "      <th>2</th>\n",
       "      <td>all residents asked to shelter in place are be...</td>\n",
       "      <td>0</td>\n",
       "    </tr>\n",
       "    <tr>\n",
       "      <th>3</th>\n",
       "      <td>people receive wildfires evacuation orders in ...</td>\n",
       "      <td>0</td>\n",
       "    </tr>\n",
       "    <tr>\n",
       "      <th>4</th>\n",
       "      <td>just got sent this photo from ruby alaska as s...</td>\n",
       "      <td>0</td>\n",
       "    </tr>\n",
       "  </tbody>\n",
       "</table>\n",
       "</div>"
      ],
      "text/plain": [
       "                                                text keyword\n",
       "0  our deeds are the reason of this earthquake ma...       0\n",
       "1              forest fire near la ronge sask canada       0\n",
       "2  all residents asked to shelter in place are be...       0\n",
       "3  people receive wildfires evacuation orders in ...       0\n",
       "4  just got sent this photo from ruby alaska as s...       0"
      ]
     },
     "execution_count": 13,
     "metadata": {},
     "output_type": "execute_result"
    }
   ],
   "source": [
    "print(\"X_train dim after processing: {}\".format(X_train.shape))\n",
    "print(\"y_train dim after processing: {}\".format(y_train.shape))\n",
    "print(\"X_test dim after processing: {}\".format(X_test.shape))\n",
    "X_train.head()"
   ]
  },
  {
   "cell_type": "markdown",
   "id": "5c1236b2",
   "metadata": {},
   "source": [
    "## Tokenization and Tf-Idf transformation \n",
    "\n",
    "The commented code below shows a precedent attempt at tokenizing the text of both text and keyword columns using CountVectorizer(). This approach, however, reached only suboptimal accuracy for all methods attempted. \n",
    "Hence, we perform tokenization through TfidfVectorizer(), which reaches better results. \n",
    "TfidfVectorizer() actually performs automatically stopword removal, tokenization and n-grams creation, so that is why they have not been performed manually. "
   ]
  },
  {
   "cell_type": "code",
   "execution_count": 14,
   "id": "8fde1d7e",
   "metadata": {},
   "outputs": [],
   "source": [
    "#count_vectorizer1 = feature_extraction.text.CountVectorizer(ngram_range=(1,3), max_features=200,\n",
    "                                                            #min_df = 6,\n",
    "                                                          #stop_words='english')\n",
    "\n",
    "#count_vectorizer2 = feature_extraction.text.CountVectorizer(ngram_range=(1,3), max_features=10,\n",
    "                                                            #min_df = 2,\n",
    "                                                          #stop_words='english')\n",
    "\n",
    "#train_vectors1 = pd.DataFrame(count_vectorizer.fit_transform(X_train['text']))\n",
    "#train_vectors2 = pd.DataFrame(count_vectorizer.fit_transform(X_train['keyword']))\n",
    "#X_train = pd.concat([train_vectors1, train_vectors2], axis=1)\n",
    "\n",
    "\n",
    "#train_vectors1 =count_vectorizer1.fit_transform(X_train['text'])\n",
    "\n",
    "#type(train_vectors1)\n",
    "\n",
    "#print(\"vocabulary of text column is {}\".format(count_vectorizer1.vocabulary_))\n",
    "\n",
    "#train_vectors2 = count_vectorizer2.fit_transform(X_train['keyword'])\n",
    "\n",
    "#print(\"vocabulary of keyword column is {}\".format(count_vectorizer2.vocabulary_))\n",
    "\n",
    "#import scipy\n",
    "#from scipy.sparse import coo_matrix, hstack\n",
    "\n",
    "#test_vectors1 = count_vectorizer1.transform(X_test['text'])\n",
    "#test_vectors2 = count_vectorizer2.transform(X_test['keyword'])\n",
    "\n",
    "#Creating X_train, y_train, X_test and y_test\n",
    "\n",
    "#X_train = scipy.sparse.hstack([train_vectors1, train_vectors2])\n",
    "#X_train.shape\n",
    "\n",
    "#X_test = scipy.sparse.hstack([test_vectors1, test_vectors2])\n",
    "\n",
    "#X_test.shape"
   ]
  },
  {
   "cell_type": "code",
   "execution_count": null,
   "id": "4faf897c",
   "metadata": {},
   "outputs": [],
   "source": [
    "#For tf-idf, better to transform text column tweets into lists of sentences (?) "
   ]
  },
  {
   "cell_type": "code",
   "execution_count": 17,
   "id": "c4b29b77",
   "metadata": {},
   "outputs": [
    {
     "name": "stdout",
     "output_type": "stream",
     "text": [
      "(7613, 1815)\n",
      "(3263, 506)\n"
     ]
    }
   ],
   "source": [
    "# Tf-idf for text and keyword columns\n",
    "\n",
    "tf_vec = TfidfVectorizer(min_df = 10, ngram_range = (1,2), stop_words='english') \n",
    "# Only include >=10 occurrences and unigrams and bigrams\n",
    "\n",
    "text_vectors_tr = tf_vec.fit_transform(X_train['text'])\n",
    "key_vectors_tr = tf_vec.fit_transform(X_train['keyword'])\n",
    "\n",
    "\n",
    "\n",
    "tot_vectors_tr = scipy.sparse.hstack([text_vectors_tr, key_vectors_tr])\n",
    "text_vectors_ts = tf_vec.transform(X_test['text'])\n",
    "\n",
    "key_vectors_ts = tf_vec.transform(X_test['keyword'])\n",
    "tot_vectors_ts = scipy.sparse.hstack([text_vectors_ts, key_vectors_ts])\n",
    "\n",
    "text_vectors_tr.shape\n",
    "\n",
    "X_train = pd.DataFrame(tot_vectors_tr.toarray())\n",
    "X_test = pd.DataFrame(tot_vectors_ts.toarray())\n",
    "print (X_train.shape)\n",
    "print(X_test.shape)"
   ]
  },
  {
   "cell_type": "markdown",
   "id": "e7a0883e",
   "metadata": {},
   "source": [
    "## Logistic Regression\n",
    "\n",
    "As a benchmark model we try the basic logistic regression. \n",
    "Validation set accuracy: 79.3% "
   ]
  },
  {
   "cell_type": "code",
   "execution_count": 19,
   "id": "089507f1",
   "metadata": {},
   "outputs": [],
   "source": [
    "#Split in training and validation sets \n",
    "X_train, X_val, y_train, y_val = train_test_split(X_train, y_train, \n",
    "                                                  train_size = 0.7, random_state = 123)\n",
    "\n",
    "param_grid_test = {\n",
    "    'C': [0.1, 0.5, 1, 5, 10, 15, 20],\n",
    "    'fit_intercept': [True, False]\n",
    "}\n",
    "\n",
    "#target classifier\n",
    "lr = LogisticRegression(max_iter = 300, random_state=123)\n",
    "\n",
    "#grid-search object\n",
    "clf_lr = GridSearchCV(estimator= lr, param_grid=param_grid_test, \n",
    "                   cv = 10, scoring = \"accuracy\")\n",
    "\n"
   ]
  },
  {
   "cell_type": "code",
   "execution_count": 20,
   "id": "6842e690",
   "metadata": {},
   "outputs": [
    {
     "name": "stdout",
     "output_type": "stream",
     "text": [
      "{'C': 0.5, 'fit_intercept': True}\n",
      "0.7887062872942205\n",
      "Logistic Regression.\tTrain ACC: 0.8431225370613623\n",
      "Logistic Regression.\tVal ACC: 0.7937828371278459\n"
     ]
    }
   ],
   "source": [
    "clf_lr.fit(X_train, y_train)\n",
    "\n",
    "y_train_pred_lr = clf_lr.predict(X_train)\n",
    "y_val_pred_lr = clf_lr.predict(X_val)\n",
    "\n",
    "\n",
    "print(clf_lr.best_params_)\n",
    "print(clf_lr.best_score_)\n",
    "print(f\"Logistic Regression.\\tTrain ACC: {accuracy_score(y_train, y_train_pred_lr)}\")\n",
    "print(f\"Logistic Regression.\\tVal ACC: {accuracy_score(y_val, y_val_pred_lr)}\")"
   ]
  },
  {
   "cell_type": "markdown",
   "id": "b4beca41",
   "metadata": {},
   "source": [
    "## KNN\n",
    "\n",
    "We also try K-Nearest-Neighbours. First, we need to find for which value of K the algorithm reaches highest accuracy on the validation set. As it doesn't seem to ever go over 75% for validation set, we discard this model. "
   ]
  },
  {
   "cell_type": "code",
   "execution_count": 21,
   "id": "3b5056a2",
   "metadata": {},
   "outputs": [
    {
     "data": {
      "image/png": "[encoded data removed]",
      "text/plain": [
       "<Figure size 720x576 with 1 Axes>"
      ]
     },
     "metadata": {
      "needs_background": "light"
     },
     "output_type": "display_data"
    }
   ],
   "source": [
    "from sklearn.neighbors import KNeighborsClassifier\n",
    "\n",
    "\n",
    "accuracy_values_train = []\n",
    "accuracy_values_val = []\n",
    "k_values = range(1, 20)\n",
    "\n",
    "\n",
    "for k in k_values:\n",
    "  model = KNeighborsClassifier(n_neighbors=k)\n",
    "  model.fit(X_train, y_train)\n",
    "  y_pred_train = model.predict(X_train)\n",
    "  y_pred_val = model.predict(X_val)\n",
    "  accuracy_values_train.append(accuracy_score(y_pred_train, y_train))\n",
    "  accuracy_values_val.append(accuracy_score(y_pred_val, y_val))\n",
    "\n",
    "    \n",
    "fig = plt.figure(figsize=(10,8))\n",
    "plt.plot(k_values, accuracy_values_train, label=\"train\")\n",
    "plt.plot(k_values, accuracy_values_val, label=\"val\")\n",
    "plt.xlabel(\"K\")\n",
    "plt.ylabel(\"Accuracy\")\n",
    "plt.legend()\n",
    "plt.show()"
   ]
  },
  {
   "cell_type": "markdown",
   "id": "d27d2fa2",
   "metadata": {},
   "source": [
    "## Decision Trees \n",
    "\n",
    "Then, we try Decision tree algorithm. "
   ]
  },
  {
   "cell_type": "code",
   "execution_count": 22,
   "id": "000d7fbd",
   "metadata": {},
   "outputs": [],
   "source": [
    "from sklearn import tree\n",
    "\n",
    "param_grid_test = {\n",
    "    'max_depth': [50,100,120,150,175,200,300,500],\n",
    "    'max_features': [100,150,200],\n",
    "    'min_samples_leaf':[1,3,5,7]\n",
    "}\n",
    "\n",
    "#target classifier\n",
    "tree = tree.DecisionTreeClassifier(criterion='entropy', random_state=123)\n",
    "\n",
    "#grid-search object\n",
    "clf_tree = GridSearchCV(estimator= tree, param_grid=param_grid_test, \n",
    "                   cv = 10, scoring = \"accuracy\")\n"
   ]
  },
  {
   "cell_type": "code",
   "execution_count": null,
   "id": "ed9d15f3",
   "metadata": {},
   "outputs": [],
   "source": [
    "\n",
    "clf_tree.fit(X_train, y_train)\n",
    "\n",
    "y_train_pred_tree = clf_tree.predict(X_train)\n",
    "y_val_pred_tree = clf_tree.predict(X_val)\n",
    "\n",
    "print(f\"Decision Tree.\\tTrain ACC: {accuracy_score(y_train, y_train_pred_lr)}\")\n",
    "print(f\"Decision Tree.\\tVal ACC: {accuracy_score(y_val, y_val_pred_lr)}\")"
   ]
  },
  {
   "cell_type": "code",
   "execution_count": null,
   "id": "60298d2d",
   "metadata": {},
   "outputs": [],
   "source": [
    "sklearn.set_config(print_changed_only=False)\n",
    "\n",
    "clf_tree"
   ]
  },
  {
   "cell_type": "markdown",
   "id": "60dddbed",
   "metadata": {},
   "source": [
    "## Neural Networks \n",
    "\n",
    "Then, we try some neural nets models. "
   ]
  },
  {
   "cell_type": "code",
   "execution_count": null,
   "id": "3f84c724",
   "metadata": {},
   "outputs": [],
   "source": [
    "# Converting y_train from (0,1) to (1,-1) and other params definition \n",
    "\n",
    "feature_vector_length = 210\n",
    "num_classes = 2\n",
    "\n",
    "\n",
    "print(y_train)\n",
    "\n",
    "y_train_nn = np.where(y_train==0, -1, y_train) \n",
    "\n",
    "type(y_train_nn)\n",
    "np.unique(y_train_nn)"
   ]
  },
  {
   "cell_type": "code",
   "execution_count": null,
   "id": "78174b7f",
   "metadata": {},
   "outputs": [],
   "source": [
    "# Configuration options\n",
    "#see the number of labels\n",
    "labels = set(y_train)\n",
    "print(labels, len(labels))"
   ]
  },
  {
   "cell_type": "code",
   "execution_count": null,
   "id": "f6fec0df",
   "metadata": {},
   "outputs": [],
   "source": [
    "# Configuration options\n",
    "feature_vector_length = X_train.shape[1] #how many features\n",
    "num_classes = len(labels) #how many classes\n",
    "\n",
    "print(feature_vector_length, num_classes)\n",
    "\n",
    "y_train_cat = to_categorical(y_train, num_classes)"
   ]
  },
  {
   "cell_type": "code",
   "execution_count": null,
   "id": "69fe82a2",
   "metadata": {},
   "outputs": [],
   "source": [
    "np.random.seed(123)\n",
    "set_random_seed(2)\n",
    "\n",
    "model = Sequential() #we first define how the \"model\" looks like\n",
    "model.add(Dense(input_dim = feature_vector_length, units=feature_vector_length , activation='relu')) #input layer\n",
    "model.add(Dense(num_classes, activation='softmax')) #output layer\n",
    "print(model.summary())\n",
    "#plot_model(model, show_shapes= True)"
   ]
  },
  {
   "cell_type": "code",
   "execution_count": null,
   "id": "71f16b7f",
   "metadata": {},
   "outputs": [],
   "source": [
    "model.compile(loss='categorical_crossentropy', #loss metric\n",
    "    optimizer='sgd',  #optimizer\n",
    "    metrics=['accuracy']) #displayed metric\n",
    "\n",
    "\n",
    "#fit\n",
    "history = model.fit(X_train, y_train_cat, epochs=5, batch_size=8, verbose=1, validation_split=0.1)"
   ]
  },
  {
   "cell_type": "code",
   "execution_count": null,
   "id": "3bfd2f4d",
   "metadata": {},
   "outputs": [],
   "source": [
    "# summarize history for accuracy\n",
    "plt.plot(history.history['accuracy'])\n",
    "plt.plot(history.history['val_accuracy'])\n",
    "plt.title('model accuracy')\n",
    "plt.ylabel('accuracy')\n",
    "plt.xlabel('epoch')\n",
    "plt.legend(['train', 'val'], loc='upper left')\n",
    "# plt.ylim(0.8, 1)\n",
    "plt.show()"
   ]
  },
  {
   "cell_type": "code",
   "execution_count": null,
   "id": "cee19538",
   "metadata": {},
   "outputs": [],
   "source": [
    "# summarize history for loss\n",
    "plt.plot(history.history['loss'])\n",
    "plt.plot(history.history['val_loss'])\n",
    "plt.title('model loss')\n",
    "plt.ylabel('loss')\n",
    "plt.xlabel('epoch')\n",
    "plt.legend(['train', 'val'], loc='upper left')\n",
    "plt.show()"
   ]
  },
  {
   "cell_type": "code",
   "execution_count": null,
   "id": "e9a2d132",
   "metadata": {},
   "outputs": [],
   "source": []
  }
 ],
 "metadata": {
  "kernelspec": {
   "display_name": "Python 3",
   "language": "python",
   "name": "python3"
  },
  "language_info": {
   "codemirror_mode": {
    "name": "ipython",
    "version": 3
   },
   "file_extension": ".py",
   "mimetype": "text/x-python",
   "name": "python",
   "nbconvert_exporter": "python",
   "pygments_lexer": "ipython3",
   "version": "3.8.10"
  }
 },
 "nbformat": 4,
 "nbformat_minor": 5
}
